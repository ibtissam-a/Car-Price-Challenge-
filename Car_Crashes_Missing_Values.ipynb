{
  "metadata": {
    "kernelspec": {
      "language": "python",
      "display_name": "Python 3",
      "name": "python3"
    },
    "language_info": {
      "name": "python",
      "version": "3.10.12",
      "mimetype": "text/x-python",
      "codemirror_mode": {
        "name": "ipython",
        "version": 3
      },
      "pygments_lexer": "ipython3",
      "nbconvert_exporter": "python",
      "file_extension": ".py"
    },
    "kaggle": {
      "accelerator": "none",
      "dataSources": [
        {
          "sourceId": 6343975,
          "sourceType": "datasetVersion",
          "datasetId": 3652663
        }
      ],
      "dockerImageVersionId": 30553,
      "isInternetEnabled": true,
      "language": "python",
      "sourceType": "notebook",
      "isGpuEnabled": false
    },
    "colab": {
      "name": "Car_Crashes_Missing_Values",
      "provenance": [],
      "include_colab_link": true
    }
  },
  "nbformat_minor": 0,
  "nbformat": 4,
  "cells": [
    {
      "cell_type": "markdown",
      "metadata": {
        "id": "view-in-github",
        "colab_type": "text"
      },
      "source": [
        "<a href=\"https://colab.research.google.com/github/ibtissam-a/Car-Price-Challenge-/blob/main/Car_Crashes_Missing_Values.ipynb\" target=\"_parent\"><img src=\"https://colab.research.google.com/assets/colab-badge.svg\" alt=\"Open In Colab\"/></a>"
      ]
    },
    {
      "source": [
        "\n",
        "# IMPORTANT: RUN THIS CELL IN ORDER TO IMPORT YOUR KAGGLE DATA SOURCES\n",
        "# TO THE CORRECT LOCATION (/kaggle/input) IN YOUR NOTEBOOK,\n",
        "# THEN FEEL FREE TO DELETE THIS CELL.\n",
        "# NOTE: THIS NOTEBOOK ENVIRONMENT DIFFERS FROM KAGGLE'S PYTHON\n",
        "# ENVIRONMENT SO THERE MAY BE MISSING LIBRARIES USED BY YOUR\n",
        "# NOTEBOOK.\n",
        "\n",
        "import os\n",
        "import sys\n",
        "from tempfile import NamedTemporaryFile\n",
        "from urllib.request import urlopen\n",
        "from urllib.parse import unquote, urlparse\n",
        "from urllib.error import HTTPError\n",
        "from zipfile import ZipFile\n",
        "import tarfile\n",
        "import shutil\n",
        "\n",
        "CHUNK_SIZE = 40960\n",
        "DATA_SOURCE_MAPPING = 'car-crashes:https%3A%2F%2Fstorage.googleapis.com%2Fkaggle-data-sets%2F3652663%2F6343975%2Fbundle%2Farchive.zip%3FX-Goog-Algorithm%3DGOOG4-RSA-SHA256%26X-Goog-Credential%3Dgcp-kaggle-com%2540kaggle-161607.iam.gserviceaccount.com%252F20240512%252Fauto%252Fstorage%252Fgoog4_request%26X-Goog-Date%3D20240512T230418Z%26X-Goog-Expires%3D259200%26X-Goog-SignedHeaders%3Dhost%26X-Goog-Signature%3Da1819ba8906500d77a59abbddb00f3cb71a1bcac086d08cd4c92322e42a1d57541608a30b3b4eb6db942ee803872dbb0b00c062a8b333190fb9510f9a9568c0a30caaf23c9dca95ba2b68589cffed91a8046a7a6b093396a6c75ec307cbe7447c07f944cfc035362ae5bbf345feba037d4de84ae7d0baf1befafcd1c9c0db3ad9f50f726c2988b04dad4ce37d92f5758b22b43b20eb15481cbb07248d4226d88b6b034b149e63fbf2e9b34b63220638aaef2f0875b4877ee59868029ece7f15000291639b16767bb68b43aa70a259af212b0c1abcebb036438204bb1fc8db09622eaadbd970acb583cb127bae6014feab13d1b4bc1af07bf19ff0948f45c8b38'\n",
        "\n",
        "KAGGLE_INPUT_PATH='/kaggle/input'\n",
        "KAGGLE_WORKING_PATH='/kaggle/working'\n",
        "KAGGLE_SYMLINK='kaggle'\n",
        "\n",
        "!umount /kaggle/input/ 2> /dev/null\n",
        "shutil.rmtree('/kaggle/input', ignore_errors=True)\n",
        "os.makedirs(KAGGLE_INPUT_PATH, 0o777, exist_ok=True)\n",
        "os.makedirs(KAGGLE_WORKING_PATH, 0o777, exist_ok=True)\n",
        "\n",
        "try:\n",
        "  os.symlink(KAGGLE_INPUT_PATH, os.path.join(\"..\", 'input'), target_is_directory=True)\n",
        "except FileExistsError:\n",
        "  pass\n",
        "try:\n",
        "  os.symlink(KAGGLE_WORKING_PATH, os.path.join(\"..\", 'working'), target_is_directory=True)\n",
        "except FileExistsError:\n",
        "  pass\n",
        "\n",
        "for data_source_mapping in DATA_SOURCE_MAPPING.split(','):\n",
        "    directory, download_url_encoded = data_source_mapping.split(':')\n",
        "    download_url = unquote(download_url_encoded)\n",
        "    filename = urlparse(download_url).path\n",
        "    destination_path = os.path.join(KAGGLE_INPUT_PATH, directory)\n",
        "    try:\n",
        "        with urlopen(download_url) as fileres, NamedTemporaryFile() as tfile:\n",
        "            total_length = fileres.headers['content-length']\n",
        "            print(f'Downloading {directory}, {total_length} bytes compressed')\n",
        "            dl = 0\n",
        "            data = fileres.read(CHUNK_SIZE)\n",
        "            while len(data) > 0:\n",
        "                dl += len(data)\n",
        "                tfile.write(data)\n",
        "                done = int(50 * dl / int(total_length))\n",
        "                sys.stdout.write(f\"\\r[{'=' * done}{' ' * (50-done)}] {dl} bytes downloaded\")\n",
        "                sys.stdout.flush()\n",
        "                data = fileres.read(CHUNK_SIZE)\n",
        "            if filename.endswith('.zip'):\n",
        "              with ZipFile(tfile) as zfile:\n",
        "                zfile.extractall(destination_path)\n",
        "            else:\n",
        "              with tarfile.open(tfile.name) as tarfile:\n",
        "                tarfile.extractall(destination_path)\n",
        "            print(f'\\nDownloaded and uncompressed: {directory}')\n",
        "    except HTTPError as e:\n",
        "        print(f'Failed to load (likely expired) {download_url} to path {destination_path}')\n",
        "        continue\n",
        "    except OSError as e:\n",
        "        print(f'Failed to load {download_url} to path {destination_path}')\n",
        "        continue\n",
        "\n",
        "print('Data source import complete.')\n"
      ],
      "metadata": {
        "id": "imqu4N1PDPMz"
      },
      "cell_type": "code",
      "outputs": [],
      "execution_count": null
    },
    {
      "cell_type": "markdown",
      "source": [
        "# **Car Crashes Missing Data**\n",
        "<h5> In this notebook we will talk about \"missing values problem\". In fact dealing with missing values in a data set is an important step in data processing phase. We selected this data set coz it contains many missing values.</h5>\n",
        "\n",
        "# <h3> Happy learning</h3>\n",
        "\n",
        "![](https://img.freepik.com/free-vector/car-crash-concept-illustration_114360-7980.jpg)"
      ],
      "metadata": {
        "id": "4LDigzFnDPND"
      }
    },
    {
      "cell_type": "code",
      "source": [
        "# Import libs\n",
        "\n",
        "import numpy as np\n",
        "import pandas as pd\n",
        "import seaborn as sns\n",
        "import matplotlib.pyplot as plt"
      ],
      "metadata": {
        "execution": {
          "iopub.status.busy": "2024-02-22T10:26:30.764243Z",
          "iopub.execute_input": "2024-02-22T10:26:30.764687Z",
          "iopub.status.idle": "2024-02-22T10:26:31.979934Z",
          "shell.execute_reply.started": "2024-02-22T10:26:30.764656Z",
          "shell.execute_reply": "2024-02-22T10:26:31.978933Z"
        },
        "trusted": true,
        "id": "_m_dg1cXDPNI"
      },
      "execution_count": null,
      "outputs": []
    },
    {
      "cell_type": "markdown",
      "source": [
        "# Data Loading and Data Exploration"
      ],
      "metadata": {
        "id": "iFFXum5YDPNK"
      }
    },
    {
      "cell_type": "code",
      "source": [
        "data = pd.read_csv('/kaggle/input/car-crashes/Motor_Vehicle_Collisions_-_Crashes.csv')\n",
        "data.head()"
      ],
      "metadata": {
        "execution": {
          "iopub.status.busy": "2024-02-22T10:26:36.380697Z",
          "iopub.execute_input": "2024-02-22T10:26:36.381563Z",
          "iopub.status.idle": "2024-02-22T10:26:54.190641Z",
          "shell.execute_reply.started": "2024-02-22T10:26:36.381525Z",
          "shell.execute_reply": "2024-02-22T10:26:54.189444Z"
        },
        "collapsed": true,
        "jupyter": {
          "outputs_hidden": true
        },
        "trusted": true,
        "id": "hTwscnqcDPNL"
      },
      "execution_count": null,
      "outputs": []
    },
    {
      "cell_type": "code",
      "source": [
        "data.shape"
      ],
      "metadata": {
        "execution": {
          "iopub.status.busy": "2024-02-19T16:23:23.559852Z",
          "iopub.execute_input": "2024-02-19T16:23:23.560242Z",
          "iopub.status.idle": "2024-02-19T16:23:23.567316Z",
          "shell.execute_reply.started": "2024-02-19T16:23:23.560212Z",
          "shell.execute_reply": "2024-02-19T16:23:23.566475Z"
        },
        "trusted": true,
        "id": "99lNzhBeDPNM"
      },
      "execution_count": null,
      "outputs": []
    },
    {
      "cell_type": "code",
      "source": [
        "data.columns"
      ],
      "metadata": {
        "execution": {
          "iopub.status.busy": "2024-02-19T09:29:20.644489Z",
          "iopub.execute_input": "2024-02-19T09:29:20.644806Z",
          "iopub.status.idle": "2024-02-19T09:29:20.651904Z",
          "shell.execute_reply.started": "2024-02-19T09:29:20.644782Z",
          "shell.execute_reply": "2024-02-19T09:29:20.650892Z"
        },
        "collapsed": true,
        "jupyter": {
          "outputs_hidden": true
        },
        "trusted": true,
        "id": "J-BNTpJIDPNM"
      },
      "execution_count": null,
      "outputs": []
    },
    {
      "cell_type": "code",
      "source": [
        "data.info()"
      ],
      "metadata": {
        "execution": {
          "iopub.status.busy": "2024-02-19T09:29:27.517511Z",
          "iopub.execute_input": "2024-02-19T09:29:27.517854Z",
          "iopub.status.idle": "2024-02-19T09:29:27.540169Z",
          "shell.execute_reply.started": "2024-02-19T09:29:27.517823Z",
          "shell.execute_reply": "2024-02-19T09:29:27.539235Z"
        },
        "collapsed": true,
        "jupyter": {
          "outputs_hidden": true
        },
        "trusted": true,
        "id": "VGsXKL3gDPNN"
      },
      "execution_count": null,
      "outputs": []
    },
    {
      "cell_type": "code",
      "source": [
        "# some statistical descriptive study\n",
        "data.describe()"
      ],
      "metadata": {
        "execution": {
          "iopub.status.busy": "2024-02-19T09:29:56.587169Z",
          "iopub.execute_input": "2024-02-19T09:29:56.587605Z",
          "iopub.status.idle": "2024-02-19T09:29:57.072559Z",
          "shell.execute_reply.started": "2024-02-19T09:29:56.587574Z",
          "shell.execute_reply": "2024-02-19T09:29:57.071771Z"
        },
        "collapsed": true,
        "jupyter": {
          "outputs_hidden": true
        },
        "trusted": true,
        "id": "l6E-wUKdDPNO"
      },
      "execution_count": null,
      "outputs": []
    },
    {
      "cell_type": "code",
      "source": [
        "data.dtypes.value_counts().plot.bar()"
      ],
      "metadata": {
        "execution": {
          "iopub.status.busy": "2023-09-05T08:46:04.68038Z",
          "iopub.execute_input": "2023-09-05T08:46:04.6807Z",
          "iopub.status.idle": "2023-09-05T08:46:04.832389Z",
          "shell.execute_reply.started": "2023-09-05T08:46:04.680677Z",
          "shell.execute_reply": "2023-09-05T08:46:04.831281Z"
        },
        "collapsed": true,
        "jupyter": {
          "outputs_hidden": true
        },
        "trusted": true,
        "id": "rLdVPmwmDPNP"
      },
      "execution_count": null,
      "outputs": []
    },
    {
      "cell_type": "code",
      "source": [
        "# check the missing values\n",
        "plt.figure(dpi=120)\n",
        "sns.heatmap(data.isna(),cbar=False)"
      ],
      "metadata": {
        "execution": {
          "iopub.status.busy": "2024-02-20T10:44:32.126562Z",
          "iopub.execute_input": "2024-02-20T10:44:32.127032Z",
          "iopub.status.idle": "2024-02-20T10:45:58.177316Z",
          "shell.execute_reply.started": "2024-02-20T10:44:32.126996Z",
          "shell.execute_reply": "2024-02-20T10:45:58.175697Z"
        },
        "collapsed": true,
        "jupyter": {
          "outputs_hidden": true
        },
        "trusted": true,
        "id": "1z8pdltBDPNP"
      },
      "execution_count": null,
      "outputs": []
    },
    {
      "cell_type": "markdown",
      "source": [
        "<h5> Woooow missing data !!! How to fix this problem ??</h5>\n",
        "<h5> From the above result we can see that we have many mssing values in our data set so we must deal with it.</h5>\n",
        "<h5> There are several approaches to deal with missing data such as :</h5>\n",
        "   <h6> * Remove rows with missing values.</h6>\n",
        "   <h6> * Remove columns with a high percentage of missing values.</h6>\n",
        "   <h6> * Imputation.</h6>\n",
        "   \n"
      ],
      "metadata": {
        "id": "DbEOQJgpDPNQ"
      }
    },
    {
      "cell_type": "markdown",
      "source": [
        "# 1) Remove rows with missing values\n",
        "We will see if the number of missing values is small compared to the size of our data set so we can simply delete only rows with missing values. However, this approach can lead to loss of valuable data."
      ],
      "metadata": {
        "id": "iLwWt7DdDPNR"
      }
    },
    {
      "cell_type": "code",
      "source": [
        " data_new = data.dropna()"
      ],
      "metadata": {
        "execution": {
          "iopub.status.busy": "2024-02-21T21:00:16.268348Z",
          "iopub.execute_input": "2024-02-21T21:00:16.268714Z",
          "iopub.status.idle": "2024-02-21T21:00:17.254113Z",
          "shell.execute_reply.started": "2024-02-21T21:00:16.268681Z",
          "shell.execute_reply": "2024-02-21T21:00:17.252684Z"
        },
        "trusted": true,
        "id": "P-u7PWmPDPNR"
      },
      "execution_count": null,
      "outputs": []
    },
    {
      "cell_type": "code",
      "source": [
        "data_new"
      ],
      "metadata": {
        "execution": {
          "iopub.status.busy": "2024-02-19T21:22:01.290247Z",
          "iopub.execute_input": "2024-02-19T21:22:01.290553Z",
          "iopub.status.idle": "2024-02-19T21:22:01.302058Z",
          "shell.execute_reply.started": "2024-02-19T21:22:01.290531Z",
          "shell.execute_reply": "2024-02-19T21:22:01.301214Z"
        },
        "trusted": true,
        "id": "Rdm2VI_RDPNR"
      },
      "execution_count": null,
      "outputs": []
    },
    {
      "cell_type": "markdown",
      "source": [
        "<h5> Oh!!! we have no more data we lost it because each row containt at least one missing value.</h5>\n",
        "<h5>=> So this approach must be avoided in our case.</h5>"
      ],
      "metadata": {
        "id": "VXkTit4UDPNS"
      }
    },
    {
      "cell_type": "markdown",
      "source": [
        "# 2) Remove columns with a high percentage of missing values\n",
        "This approach aims to drop non critical columns with large proportion of missing values thus we will need to use the threshold concept.\n",
        "The thrshold is the number of missing values from which we can decide to remove a column or not.\n",
        "We will use this formula to calculate the threshold: T = (M/100)*N\n",
        "   * M : The maximum percentage of missing values per comlumn we can tolorate. In this case we will choose 10%.\n",
        "   * N : The total number of rows in our data set.\n",
        "   * T : The threshold."
      ],
      "metadata": {
        "id": "Z0U8CUH7DPNS"
      }
    },
    {
      "cell_type": "code",
      "source": [
        "# Threshold\n",
        "T = (10/100)*2018963\n",
        "print(\"The threshold in our case is: \", T)"
      ],
      "metadata": {
        "execution": {
          "iopub.status.busy": "2024-02-22T11:04:50.583653Z",
          "iopub.execute_input": "2024-02-22T11:04:50.584059Z",
          "iopub.status.idle": "2024-02-22T11:04:50.590531Z",
          "shell.execute_reply.started": "2024-02-22T11:04:50.584031Z",
          "shell.execute_reply": "2024-02-22T11:04:50.589249Z"
        },
        "trusted": true,
        "id": "QJCK6xHhDPNS"
      },
      "execution_count": null,
      "outputs": []
    },
    {
      "cell_type": "markdown",
      "source": [
        "This means that any column with more than approximately 201,896 missing values are considered for removal."
      ],
      "metadata": {
        "id": "jhpphtXSDPNT"
      }
    },
    {
      "cell_type": "code",
      "source": [
        "data.isnull().sum()"
      ],
      "metadata": {
        "execution": {
          "iopub.status.busy": "2024-02-21T20:45:03.703853Z",
          "iopub.execute_input": "2024-02-21T20:45:03.704438Z",
          "iopub.status.idle": "2024-02-21T20:45:06.403296Z",
          "shell.execute_reply.started": "2024-02-21T20:45:03.704396Z",
          "shell.execute_reply": "2024-02-21T20:45:06.402087Z"
        },
        "trusted": true,
        "id": "QRs8NvV0DPNT"
      },
      "execution_count": null,
      "outputs": []
    },
    {
      "cell_type": "code",
      "source": [
        "# we will create a new dataset contains only columns with missing value < T\n",
        "new_data = data[['CRASH DATE', 'CRASH TIME','NUMBER OF PERSONS INJURED','NUMBER OF PERSONS KILLED',\n",
        "                 'NUMBER OF PEDESTRIANS INJURED','NUMBER OF PEDESTRIANS KILLED', 'NUMBER OF CYCLIST INJURED',\n",
        "                 'NUMBER OF CYCLIST KILLED', 'NUMBER OF MOTORIST INJURED','NUMBER OF MOTORIST KILLED',\n",
        "                 'CONTRIBUTING FACTOR VEHICLE 1','COLLISION_ID', 'VEHICLE TYPE CODE 1']]"
      ],
      "metadata": {
        "execution": {
          "iopub.status.busy": "2024-02-22T11:28:21.685144Z",
          "iopub.execute_input": "2024-02-22T11:28:21.685553Z",
          "iopub.status.idle": "2024-02-22T11:28:21.866695Z",
          "shell.execute_reply.started": "2024-02-22T11:28:21.68552Z",
          "shell.execute_reply": "2024-02-22T11:28:21.865451Z"
        },
        "trusted": true,
        "id": "mMRO7EpeDPNT"
      },
      "execution_count": null,
      "outputs": []
    },
    {
      "cell_type": "code",
      "source": [
        "new_data.shape"
      ],
      "metadata": {
        "execution": {
          "iopub.status.busy": "2024-02-20T10:28:46.000267Z",
          "iopub.execute_input": "2024-02-20T10:28:46.001232Z",
          "iopub.status.idle": "2024-02-20T10:28:46.008746Z",
          "shell.execute_reply.started": "2024-02-20T10:28:46.001183Z",
          "shell.execute_reply": "2024-02-20T10:28:46.007351Z"
        },
        "trusted": true,
        "id": "-78CWbXfDPNU"
      },
      "execution_count": null,
      "outputs": []
    },
    {
      "cell_type": "code",
      "source": [
        "new_data.dtypes.value_counts()"
      ],
      "metadata": {
        "id": "ly95a35XDPNU"
      },
      "execution_count": null,
      "outputs": []
    },
    {
      "cell_type": "code",
      "source": [
        "# we must change the dtype of CRASH DATE column\n",
        "new_data['CRASH DATE'] = pd.to_datetime(new_data['CRASH DATE'])"
      ],
      "metadata": {
        "id": "VCe12G7DDPNU"
      },
      "execution_count": null,
      "outputs": []
    },
    {
      "cell_type": "code",
      "source": [
        "new_data.isnull().sum()"
      ],
      "metadata": {
        "execution": {
          "iopub.status.busy": "2024-02-20T14:01:04.374095Z",
          "iopub.execute_input": "2024-02-20T14:01:04.374526Z",
          "iopub.status.idle": "2024-02-20T14:01:05.217379Z",
          "shell.execute_reply.started": "2024-02-20T14:01:04.374496Z",
          "shell.execute_reply": "2024-02-20T14:01:05.216209Z"
        },
        "collapsed": true,
        "jupyter": {
          "outputs_hidden": true
        },
        "trusted": true,
        "id": "QIAcGSYWDPNU"
      },
      "execution_count": null,
      "outputs": []
    },
    {
      "cell_type": "code",
      "source": [
        "new_data.isnull().sum().plot.bar()"
      ],
      "metadata": {
        "execution": {
          "iopub.status.busy": "2024-02-20T10:41:55.648271Z",
          "iopub.execute_input": "2024-02-20T10:41:55.648758Z",
          "iopub.status.idle": "2024-02-20T10:41:56.950238Z",
          "shell.execute_reply.started": "2024-02-20T10:41:55.648722Z",
          "shell.execute_reply": "2024-02-20T10:41:56.948714Z"
        },
        "collapsed": true,
        "jupyter": {
          "outputs_hidden": true
        },
        "trusted": true,
        "id": "kZL0YQR1DPNV"
      },
      "execution_count": null,
      "outputs": []
    },
    {
      "cell_type": "code",
      "source": [
        "plt.figure(dpi=120)\n",
        "sns.heatmap(new_data.isna(),cbar=False)"
      ],
      "metadata": {
        "execution": {
          "iopub.status.busy": "2024-02-20T10:42:52.276802Z",
          "iopub.execute_input": "2024-02-20T10:42:52.277239Z",
          "iopub.status.idle": "2024-02-20T10:43:30.869303Z",
          "shell.execute_reply.started": "2024-02-20T10:42:52.277205Z",
          "shell.execute_reply": "2024-02-20T10:43:30.868243Z"
        },
        "collapsed": true,
        "jupyter": {
          "outputs_hidden": true
        },
        "trusted": true,
        "id": "Ul78gXwzDPNV"
      },
      "execution_count": null,
      "outputs": []
    },
    {
      "cell_type": "markdown",
      "source": [
        "# 3) Imputation\n",
        "It involves filling in missing values with some estimated values. Common methods for imputation include:\n",
        "\n",
        "* Mean/Median/Mode imputation: Replace missing values with the mean, median, or mode of the respective column.\n",
        "* Interpolation: Estimate missing values based on the values of neighboring data points.\n",
        "!!! BTW still there are many other imputation methods.\n",
        "* Note: we will apply this method on the new data set"
      ],
      "metadata": {
        "id": "MggHu40UDPNV"
      }
    },
    {
      "cell_type": "markdown",
      "source": [
        "# <h4>3.1) Mean/Median/Mode imputation</h4>"
      ],
      "metadata": {
        "id": "FEx2Gw6MDPNW"
      }
    },
    {
      "cell_type": "code",
      "source": [
        "# display the list of columns with empty values\n",
        "null_list =[]\n",
        "for col in new_data.columns:\n",
        "    if (new_data[col].isnull().sum())>0:\n",
        "        null_list.append(col)\n",
        "\n",
        "null_list"
      ],
      "metadata": {
        "execution": {
          "iopub.status.busy": "2024-02-21T20:52:21.960064Z",
          "iopub.execute_input": "2024-02-21T20:52:21.960523Z",
          "iopub.status.idle": "2024-02-21T20:52:22.831961Z",
          "shell.execute_reply.started": "2024-02-21T20:52:21.960465Z",
          "shell.execute_reply": "2024-02-21T20:52:22.830638Z"
        },
        "trusted": true,
        "id": "Z4U6NdxnDPNW"
      },
      "execution_count": null,
      "outputs": []
    },
    {
      "cell_type": "markdown",
      "source": [
        "# Categorical/ordinal columns\n",
        "The mode imputation is the better choice for the categorical and ordinal variables."
      ],
      "metadata": {
        "id": "vwI2iBqADPNW"
      }
    },
    {
      "cell_type": "code",
      "source": [
        "# we must put \"include='all'\" in the describe funtion in order to get the mode of the categorical columns.\n",
        "# the top value is the mode.\n",
        "new_data.describe(include='all')"
      ],
      "metadata": {
        "execution": {
          "iopub.status.busy": "2024-02-22T11:33:39.677747Z",
          "iopub.execute_input": "2024-02-22T11:33:39.678488Z",
          "iopub.status.idle": "2024-02-22T11:33:41.20961Z",
          "shell.execute_reply.started": "2024-02-22T11:33:39.678435Z",
          "shell.execute_reply": "2024-02-22T11:33:41.208456Z"
        },
        "trusted": true,
        "id": "_x3m3pG2DPNW"
      },
      "execution_count": null,
      "outputs": []
    },
    {
      "cell_type": "code",
      "source": [
        "# also we can calculate the mode by this way\n",
        "cols = ['CONTRIBUTING FACTOR VEHICLE 1','VEHICLE TYPE CODE 1']\n",
        "for col in cols:\n",
        "    mode = new_data[col].mode()[0]\n",
        "    print(mode)"
      ],
      "metadata": {
        "execution": {
          "iopub.status.busy": "2024-02-22T11:35:14.98244Z",
          "iopub.execute_input": "2024-02-22T11:35:14.982858Z",
          "iopub.status.idle": "2024-02-22T11:35:15.323459Z",
          "shell.execute_reply.started": "2024-02-22T11:35:14.982828Z",
          "shell.execute_reply": "2024-02-22T11:35:15.322259Z"
        },
        "trusted": true,
        "id": "yWH1nYDYDPNZ"
      },
      "execution_count": null,
      "outputs": []
    },
    {
      "cell_type": "code",
      "source": [
        "# also we can use this way to determin the mode, we take the value with the highest number of occurence\n",
        "\n",
        "new_data['CONTRIBUTING FACTOR VEHICLE 1'].value_counts()\n",
        "\n",
        "# in this columns we get \"unspecified\" value is the mode this is not logic to fill the empty cells with this values\n",
        "# thus we will use the value with second hight occurence"
      ],
      "metadata": {
        "execution": {
          "iopub.status.busy": "2024-02-21T21:17:28.983544Z",
          "iopub.execute_input": "2024-02-21T21:17:28.983869Z",
          "iopub.status.idle": "2024-02-21T21:17:29.102216Z",
          "shell.execute_reply.started": "2024-02-21T21:17:28.983845Z",
          "shell.execute_reply": "2024-02-21T21:17:29.10091Z"
        },
        "trusted": true,
        "id": "BIFv0lHlDPNZ"
      },
      "execution_count": null,
      "outputs": []
    },
    {
      "cell_type": "code",
      "source": [
        "# As we can see in the from the previous table that the 'CONTRIBUTING FACTOR VEHICLE 1' contains NaN values\n",
        "# So we will fill it with first with the \"Unspecified \" value\n",
        "\n",
        "new_data['CONTRIBUTING FACTOR VEHICLE 1'].fillna('Unspecified', inplace = True )"
      ],
      "metadata": {
        "execution": {
          "iopub.status.busy": "2024-02-21T21:40:14.336996Z",
          "iopub.execute_input": "2024-02-21T21:40:14.337386Z",
          "iopub.status.idle": "2024-02-21T21:40:14.427369Z",
          "shell.execute_reply.started": "2024-02-21T21:40:14.33736Z",
          "shell.execute_reply": "2024-02-21T21:40:14.426075Z"
        },
        "collapsed": true,
        "jupyter": {
          "outputs_hidden": true
        },
        "trusted": true,
        "id": "IokMO3dnDPNa"
      },
      "execution_count": null,
      "outputs": []
    },
    {
      "cell_type": "code",
      "source": [
        "# then we will replace the \"Unspecified\" value with \"Driver Inattention/Distraction\"\n",
        "new_data['CONTRIBUTING FACTOR VEHICLE 1'] = new_data['CONTRIBUTING FACTOR VEHICLE 1'].replace('Unspecified','Driver Inattention/Distraction')"
      ],
      "metadata": {
        "execution": {
          "iopub.status.busy": "2024-02-21T21:43:19.382695Z",
          "iopub.execute_input": "2024-02-21T21:43:19.383057Z",
          "iopub.status.idle": "2024-02-21T21:43:19.549692Z",
          "shell.execute_reply.started": "2024-02-21T21:43:19.383031Z",
          "shell.execute_reply": "2024-02-21T21:43:19.548384Z"
        },
        "collapsed": true,
        "jupyter": {
          "outputs_hidden": true
        },
        "trusted": true,
        "id": "_nc5ktwPDPNb"
      },
      "execution_count": null,
      "outputs": []
    },
    {
      "cell_type": "code",
      "source": [
        "new_data['CONTRIBUTING FACTOR VEHICLE 1'].value_counts()"
      ],
      "metadata": {
        "execution": {
          "iopub.status.busy": "2024-02-21T21:48:43.635522Z",
          "iopub.execute_input": "2024-02-21T21:48:43.635901Z",
          "iopub.status.idle": "2024-02-21T21:48:43.746351Z",
          "shell.execute_reply.started": "2024-02-21T21:48:43.635855Z",
          "shell.execute_reply": "2024-02-21T21:48:43.744642Z"
        },
        "collapsed": true,
        "jupyter": {
          "outputs_hidden": true
        },
        "trusted": true,
        "id": "z7iHQvGuDPNb"
      },
      "execution_count": null,
      "outputs": []
    },
    {
      "cell_type": "code",
      "source": [
        "# still we have some strange values we have to fix them\n",
        "new_data['CONTRIBUTING FACTOR VEHICLE 1'] = new_data['CONTRIBUTING FACTOR VEHICLE 1'].replace('80','Driver Inattention/Distraction')\n",
        "new_data['CONTRIBUTING FACTOR VEHICLE 1'] = new_data['CONTRIBUTING FACTOR VEHICLE 1'].replace('1','Driver Inattention/Distraction')"
      ],
      "metadata": {
        "execution": {
          "iopub.status.busy": "2024-02-21T21:48:21.633027Z",
          "iopub.execute_input": "2024-02-21T21:48:21.633417Z",
          "iopub.status.idle": "2024-02-21T21:48:21.874162Z",
          "shell.execute_reply.started": "2024-02-21T21:48:21.63339Z",
          "shell.execute_reply": "2024-02-21T21:48:21.872734Z"
        },
        "collapsed": true,
        "jupyter": {
          "outputs_hidden": true
        },
        "trusted": true,
        "id": "dU5IlXu4DPNb"
      },
      "execution_count": null,
      "outputs": []
    },
    {
      "cell_type": "code",
      "source": [
        "new_data['VEHICLE TYPE CODE 1'].value_counts()\n",
        "\n",
        "# for this column we will fill the empty values with \"Sedan\""
      ],
      "metadata": {
        "execution": {
          "iopub.status.busy": "2024-02-22T12:25:18.452569Z",
          "iopub.execute_input": "2024-02-22T12:25:18.453061Z",
          "iopub.status.idle": "2024-02-22T12:25:18.641664Z",
          "shell.execute_reply.started": "2024-02-22T12:25:18.453001Z",
          "shell.execute_reply": "2024-02-22T12:25:18.640515Z"
        },
        "collapsed": true,
        "jupyter": {
          "outputs_hidden": true
        },
        "trusted": true,
        "id": "r4FLdOCwDPNc"
      },
      "execution_count": null,
      "outputs": []
    },
    {
      "cell_type": "code",
      "source": [
        "# first we wil fill empty cells\n",
        "new_data['VEHICLE TYPE CODE 1'].fillna('Unspecified', inplace=True)"
      ],
      "metadata": {
        "execution": {
          "iopub.status.busy": "2024-02-22T11:49:16.805858Z",
          "iopub.execute_input": "2024-02-22T11:49:16.806305Z",
          "iopub.status.idle": "2024-02-22T11:49:16.946598Z",
          "shell.execute_reply.started": "2024-02-22T11:49:16.806271Z",
          "shell.execute_reply": "2024-02-22T11:49:16.945519Z"
        },
        "collapsed": true,
        "jupyter": {
          "outputs_hidden": true
        },
        "trusted": true,
        "id": "5iw9-qRrDPNj"
      },
      "execution_count": null,
      "outputs": []
    },
    {
      "cell_type": "code",
      "source": [
        "# we  will replace the \"Unspecified\" values with \"Sedan\"\n",
        "new_data['VEHICLE TYPE CODE 1'] = new_data['VEHICLE TYPE CODE 1'].replace('Unspecified', 'Sedan')"
      ],
      "metadata": {
        "execution": {
          "iopub.status.busy": "2024-02-21T21:53:49.367407Z",
          "iopub.execute_input": "2024-02-21T21:53:49.367723Z",
          "iopub.status.idle": "2024-02-21T21:53:49.500194Z",
          "shell.execute_reply.started": "2024-02-21T21:53:49.367698Z",
          "shell.execute_reply": "2024-02-21T21:53:49.49894Z"
        },
        "trusted": true,
        "id": "vIVz19KuDPNk"
      },
      "execution_count": null,
      "outputs": []
    },
    {
      "cell_type": "code",
      "source": [
        "# or we can simply do this\n",
        "new_data['VEHICLE TYPE CODE 1'].fillna(new_data['VEHICLE TYPE CODE 1'].mode(), inplace=True)"
      ],
      "metadata": {
        "execution": {
          "iopub.status.busy": "2024-02-22T12:29:36.27541Z",
          "iopub.execute_input": "2024-02-22T12:29:36.276193Z",
          "iopub.status.idle": "2024-02-22T12:29:36.687722Z",
          "shell.execute_reply.started": "2024-02-22T12:29:36.276151Z",
          "shell.execute_reply": "2024-02-22T12:29:36.686371Z"
        },
        "trusted": true,
        "id": "INOLNVQQDPNk"
      },
      "execution_count": null,
      "outputs": []
    },
    {
      "cell_type": "markdown",
      "source": [
        "# Numerical columns"
      ],
      "metadata": {
        "id": "9iXKfpdeDPNl"
      }
    },
    {
      "cell_type": "code",
      "source": [
        "list1 = ['NUMBER OF PERSONS INJURED','NUMBER OF PERSONS KILLED']\n",
        "for l in list1:\n",
        "    sns.distplot(new_data[l], hist = True )"
      ],
      "metadata": {
        "execution": {
          "iopub.status.busy": "2024-02-21T22:36:30.796376Z",
          "iopub.execute_input": "2024-02-21T22:36:30.79674Z",
          "iopub.status.idle": "2024-02-21T22:36:50.077071Z",
          "shell.execute_reply.started": "2024-02-21T22:36:30.796711Z",
          "shell.execute_reply": "2024-02-21T22:36:50.075896Z"
        },
        "collapsed": true,
        "jupyter": {
          "outputs_hidden": true
        },
        "trusted": true,
        "id": "ThbAynWPDPNl"
      },
      "execution_count": null,
      "outputs": []
    },
    {
      "cell_type": "markdown",
      "source": [
        "* From this histogram we can see that the two columns are hight skewed to the right.\n",
        "* Also we can see from the statistical description table that the mean is greater than the median and the max value is greater than 0 witch representes the 75%. So we must use median imputation\n",
        "* The median is more suitable for ordinal or interval data with outliers or hight skewed distributions.\n",
        "* It is more robust to outliers coz it less affected by extreme values compared to the mean"
      ],
      "metadata": {
        "id": "kNnO_-eDDPNl"
      }
    },
    {
      "cell_type": "code",
      "source": [
        "# check before th imputation\n",
        "new_data.isna().sum()"
      ],
      "metadata": {
        "execution": {
          "iopub.status.busy": "2024-02-22T12:31:19.143887Z",
          "iopub.execute_input": "2024-02-22T12:31:19.144306Z",
          "iopub.status.idle": "2024-02-22T12:31:19.54587Z",
          "shell.execute_reply.started": "2024-02-22T12:31:19.144276Z",
          "shell.execute_reply": "2024-02-22T12:31:19.544774Z"
        },
        "collapsed": true,
        "jupyter": {
          "outputs_hidden": true
        },
        "trusted": true,
        "id": "Nkx9vySwDPNl"
      },
      "execution_count": null,
      "outputs": []
    },
    {
      "cell_type": "code",
      "source": [
        "new_data['NUMBER OF PERSONS INJURED'].fillna(new_data['NUMBER OF PERSONS INJURED'].median(), inplace = True )"
      ],
      "metadata": {
        "execution": {
          "iopub.status.busy": "2024-02-21T23:08:45.474426Z",
          "iopub.execute_input": "2024-02-21T23:08:45.474747Z",
          "iopub.status.idle": "2024-02-21T23:08:45.482601Z",
          "shell.execute_reply.started": "2024-02-21T23:08:45.474723Z",
          "shell.execute_reply": "2024-02-21T23:08:45.481774Z"
        },
        "trusted": true,
        "id": "paly9l2hDPNm"
      },
      "execution_count": null,
      "outputs": []
    },
    {
      "cell_type": "code",
      "source": [
        "new_data['NUMBER OF PERSONS KILLED'].fillna(new_data['NUMBER OF PERSONS KILLED'].median(), inplace = True)"
      ],
      "metadata": {
        "execution": {
          "iopub.status.busy": "2024-02-21T23:10:01.780745Z",
          "iopub.execute_input": "2024-02-21T23:10:01.781313Z",
          "iopub.status.idle": "2024-02-21T23:10:01.791605Z",
          "shell.execute_reply.started": "2024-02-21T23:10:01.78127Z",
          "shell.execute_reply": "2024-02-21T23:10:01.790351Z"
        },
        "collapsed": true,
        "jupyter": {
          "outputs_hidden": true
        },
        "trusted": true,
        "id": "qO8qJKhYDPNm"
      },
      "execution_count": null,
      "outputs": []
    },
    {
      "cell_type": "code",
      "source": [
        "new_data.dtypes.value_counts()"
      ],
      "metadata": {
        "execution": {
          "iopub.status.busy": "2024-02-21T23:22:19.861599Z",
          "iopub.execute_input": "2024-02-21T23:22:19.861958Z",
          "iopub.status.idle": "2024-02-21T23:22:19.869758Z",
          "shell.execute_reply.started": "2024-02-21T23:22:19.861933Z",
          "shell.execute_reply": "2024-02-21T23:22:19.868932Z"
        },
        "trusted": true,
        "id": "ENUb04UhDPNm"
      },
      "execution_count": null,
      "outputs": []
    },
    {
      "cell_type": "markdown",
      "source": [
        "# <h4> 3.2) Interpolation imputation</h4>"
      ],
      "metadata": {
        "id": "PALGxpWhDPNn"
      }
    },
    {
      "cell_type": "code",
      "source": [
        "new_data2 = data[['CRASH DATE', 'CRASH TIME','NUMBER OF PERSONS INJURED','NUMBER OF PERSONS KILLED',\n",
        "                 'NUMBER OF PEDESTRIANS INJURED','NUMBER OF PEDESTRIANS KILLED', 'NUMBER OF CYCLIST INJURED',\n",
        "                 'NUMBER OF CYCLIST KILLED', 'NUMBER OF MOTORIST INJURED','NUMBER OF MOTORIST KILLED',\n",
        "                 'CONTRIBUTING FACTOR VEHICLE 1','COLLISION_ID', 'VEHICLE TYPE CODE 1']]"
      ],
      "metadata": {
        "execution": {
          "iopub.status.busy": "2024-02-22T12:33:24.911686Z",
          "iopub.execute_input": "2024-02-22T12:33:24.912088Z",
          "iopub.status.idle": "2024-02-22T12:33:25.394832Z",
          "shell.execute_reply.started": "2024-02-22T12:33:24.912059Z",
          "shell.execute_reply": "2024-02-22T12:33:25.393863Z"
        },
        "trusted": true,
        "id": "72nWVy8DDPNn"
      },
      "execution_count": null,
      "outputs": []
    },
    {
      "cell_type": "code",
      "source": [
        "new_data2.head()"
      ],
      "metadata": {
        "execution": {
          "iopub.status.busy": "2024-02-22T00:10:23.770511Z",
          "iopub.execute_input": "2024-02-22T00:10:23.77083Z",
          "iopub.status.idle": "2024-02-22T00:10:23.787914Z",
          "shell.execute_reply.started": "2024-02-22T00:10:23.770805Z",
          "shell.execute_reply": "2024-02-22T00:10:23.786244Z"
        },
        "collapsed": true,
        "jupyter": {
          "outputs_hidden": true
        },
        "trusted": true,
        "id": "vGPcFA4VDPNn"
      },
      "execution_count": null,
      "outputs": []
    },
    {
      "cell_type": "code",
      "source": [
        "new_data2.isnull().sum()"
      ],
      "metadata": {
        "execution": {
          "iopub.status.busy": "2024-02-22T12:33:35.177537Z",
          "iopub.execute_input": "2024-02-22T12:33:35.178469Z",
          "iopub.status.idle": "2024-02-22T12:33:35.604764Z",
          "shell.execute_reply.started": "2024-02-22T12:33:35.178431Z",
          "shell.execute_reply": "2024-02-22T12:33:35.60366Z"
        },
        "trusted": true,
        "id": "tHdmdU1mDPNt"
      },
      "execution_count": null,
      "outputs": []
    },
    {
      "cell_type": "code",
      "source": [
        "new_data2['NUMBER OF PERSONS INJURED'] = new_data2['NUMBER OF PERSONS INJURED'].interpolate(method='linear', axis=0)\n"
      ],
      "metadata": {
        "execution": {
          "iopub.status.busy": "2024-02-22T00:12:14.797527Z",
          "iopub.execute_input": "2024-02-22T00:12:14.798119Z",
          "iopub.status.idle": "2024-02-22T00:12:14.852238Z",
          "shell.execute_reply.started": "2024-02-22T00:12:14.798087Z",
          "shell.execute_reply": "2024-02-22T00:12:14.851502Z"
        },
        "collapsed": true,
        "jupyter": {
          "outputs_hidden": true
        },
        "trusted": true,
        "id": "Qy6ojCCoDPNu"
      },
      "execution_count": null,
      "outputs": []
    },
    {
      "cell_type": "code",
      "source": [
        "new_data2['NUMBER OF PERSONS KILLED'] = new_data2['NUMBER OF PERSONS KILLED'].interpolate(method='nearest', axis=0)\n"
      ],
      "metadata": {
        "execution": {
          "iopub.status.busy": "2024-02-22T00:19:08.942801Z",
          "iopub.execute_input": "2024-02-22T00:19:08.943178Z",
          "iopub.status.idle": "2024-02-22T00:19:08.99176Z",
          "shell.execute_reply.started": "2024-02-22T00:19:08.94315Z",
          "shell.execute_reply": "2024-02-22T00:19:08.990897Z"
        },
        "collapsed": true,
        "jupyter": {
          "outputs_hidden": true
        },
        "trusted": true,
        "id": "grTeLKm1DPNv"
      },
      "execution_count": null,
      "outputs": []
    },
    {
      "cell_type": "markdown",
      "source": [
        "* For nominal or categorical data the interpolation doesn't make sense coz there is no meaningful order or relationship between the categories.\n",
        "* Instead, we should use other imputation methods such as mode imputation to fill in the missing values as we have seen earlier or we can use binary fill as it is mentioned in the following cell."
      ],
      "metadata": {
        "id": "3iR9sxQIDPNw"
      }
    },
    {
      "cell_type": "code",
      "source": [
        "new_data2['VEHICLE TYPE CODE 1'].fillna(method='bfill', axis = 0, inplace= True)"
      ],
      "metadata": {
        "execution": {
          "iopub.status.busy": "2024-02-22T12:36:52.047575Z",
          "iopub.execute_input": "2024-02-22T12:36:52.047932Z",
          "iopub.status.idle": "2024-02-22T12:36:52.188333Z",
          "shell.execute_reply.started": "2024-02-22T12:36:52.047906Z",
          "shell.execute_reply": "2024-02-22T12:36:52.187493Z"
        },
        "trusted": true,
        "id": "9KeuyNiUDPNw"
      },
      "execution_count": null,
      "outputs": []
    },
    {
      "cell_type": "code",
      "source": [
        "new_data2.isnull().sum()"
      ],
      "metadata": {
        "execution": {
          "iopub.status.busy": "2024-02-22T12:36:56.303394Z",
          "iopub.execute_input": "2024-02-22T12:36:56.303821Z",
          "iopub.status.idle": "2024-02-22T12:36:56.704908Z",
          "shell.execute_reply.started": "2024-02-22T12:36:56.303785Z",
          "shell.execute_reply": "2024-02-22T12:36:56.703802Z"
        },
        "trusted": true,
        "id": "Xk1MElxMDPNw"
      },
      "execution_count": null,
      "outputs": []
    },
    {
      "cell_type": "markdown",
      "source": [
        "# Hoppppe you find it helpfull !!!"
      ],
      "metadata": {
        "id": "IhlkAMRqDPNx"
      }
    }
  ]
}