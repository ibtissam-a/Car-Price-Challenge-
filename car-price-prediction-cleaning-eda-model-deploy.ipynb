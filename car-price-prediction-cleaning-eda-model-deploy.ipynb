{
 "cells": [
  {
   "cell_type": "markdown",
   "id": "b1ca23cf",
   "metadata": {
    "papermill": {
     "duration": 0.013484,
     "end_time": "2022-11-03T22:01:35.738378",
     "exception": false,
     "start_time": "2022-11-03T22:01:35.724894",
     "status": "completed"
    },
    "tags": []
   },
   "source": [
    "# Car Price Prediction\n",
    "![](https://cdn.dribbble.com/users/2374064/screenshots/4732016/car-jump.gif)\n",
    "\n",
    "**Today, in this notebook we will work with the car price data set, where we will make some operations like cleaning data, explore it and we will create a ML model to deploy this data.\n",
    "hope you enjoy it!!!!!**"
   ]
  },
  {
   "cell_type": "markdown",
   "id": "de61e960",
   "metadata": {
    "papermill": {
     "duration": 0.013378,
     "end_time": "2022-11-03T22:01:35.763914",
     "exception": false,
     "start_time": "2022-11-03T22:01:35.750536",
     "status": "completed"
    },
    "tags": []
   },
   "source": [
    "# Import libs"
   ]
  },
  {
   "cell_type": "code",
   "execution_count": 1,
   "id": "7abb7285",
   "metadata": {
    "execution": {
     "iopub.execute_input": "2022-11-03T22:01:35.790846Z",
     "iopub.status.busy": "2022-11-03T22:01:35.790025Z",
     "iopub.status.idle": "2022-11-03T22:01:37.432089Z",
     "shell.execute_reply": "2022-11-03T22:01:37.431020Z"
    },
    "papermill": {
     "duration": 1.658515,
     "end_time": "2022-11-03T22:01:37.434918",
     "exception": false,
     "start_time": "2022-11-03T22:01:35.776403",
     "status": "completed"
    },
    "tags": []
   },
   "outputs": [],
   "source": [
    "import os\n",
    "import numpy as np\n",
    "import pandas as pd\n",
    "import seaborn as sns\n",
    "from xgboost import XGBRegressor\n",
    "import matplotlib.pyplot as plt\n",
    "from sklearn.pipeline import Pipeline\n",
    "from sklearn.impute import SimpleImputer\n",
    "from sklearn.compose import ColumnTransformer\n",
    "from sklearn.preprocessing import OneHotEncoder\n",
    "from sklearn.metrics import mean_absolute_error\n",
    "from sklearn.ensemble import RandomForestRegressor\n",
    "from sklearn.model_selection import train_test_split"
   ]
  },
  {
   "cell_type": "markdown",
   "id": "b54b25b3",
   "metadata": {
    "papermill": {
     "duration": 0.011958,
     "end_time": "2022-11-03T22:01:37.458961",
     "exception": false,
     "start_time": "2022-11-03T22:01:37.447003",
     "status": "completed"
    },
    "tags": []
   },
   "source": [
    "[](http://www.google.fr/url?sa=i&url=https%3A%2F%2Fdribbble.com%2Fshots%2F4732016-Car-Jump-GIF-animation&psig=AOvVaw0y8Jb3aa7GZgVA2p5LkOjj&ust=1667523195660000&source=images&cd=vfe&ved=0CAoQjRxqFwoTCLimz6fmkPsCFQAAAAAdAAAAABAF)"
   ]
  },
  {
   "cell_type": "markdown",
   "id": "f5ff6ffc",
   "metadata": {
    "papermill": {
     "duration": 0.01172,
     "end_time": "2022-11-03T22:01:37.482737",
     "exception": false,
     "start_time": "2022-11-03T22:01:37.471017",
     "status": "completed"
    },
    "tags": []
   },
   "source": [
    "# Data discovering  "
   ]
  },
  {
   "cell_type": "code",
   "execution_count": 2,
   "id": "87902b53",
   "metadata": {
    "execution": {
     "iopub.execute_input": "2022-11-03T22:01:37.509189Z",
     "iopub.status.busy": "2022-11-03T22:01:37.508682Z",
     "iopub.status.idle": "2022-11-03T22:01:37.527552Z",
     "shell.execute_reply": "2022-11-03T22:01:37.526163Z"
    },
    "papermill": {
     "duration": 0.036521,
     "end_time": "2022-11-03T22:01:37.531266",
     "exception": false,
     "start_time": "2022-11-03T22:01:37.494745",
     "status": "completed"
    },
    "tags": []
   },
   "outputs": [
    {
     "name": "stdout",
     "output_type": "stream",
     "text": [
      "/kaggle/input/car-price-prediction-challenge/car_price_prediction.csv\n"
     ]
    }
   ],
   "source": [
    "for dirname, _, filenames in os.walk('/kaggle/input'):\n",
    "    for filename in filenames:\n",
    "        print(os.path.join(dirname, filename))"
   ]
  },
  {
   "cell_type": "code",
   "execution_count": 3,
   "id": "40fbe40a",
   "metadata": {
    "execution": {
     "iopub.execute_input": "2022-11-03T22:01:37.559894Z",
     "iopub.status.busy": "2022-11-03T22:01:37.558745Z",
     "iopub.status.idle": "2022-11-03T22:01:37.718232Z",
     "shell.execute_reply": "2022-11-03T22:01:37.716852Z"
    },
    "papermill": {
     "duration": 0.176428,
     "end_time": "2022-11-03T22:01:37.721165",
     "exception": false,
     "start_time": "2022-11-03T22:01:37.544737",
     "status": "completed"
    },
    "tags": []
   },
   "outputs": [
    {
     "data": {
      "text/html": [
       "<div>\n",
       "<style scoped>\n",
       "    .dataframe tbody tr th:only-of-type {\n",
       "        vertical-align: middle;\n",
       "    }\n",
       "\n",
       "    .dataframe tbody tr th {\n",
       "        vertical-align: top;\n",
       "    }\n",
       "\n",
       "    .dataframe thead th {\n",
       "        text-align: right;\n",
       "    }\n",
       "</style>\n",
       "<table border=\"1\" class=\"dataframe\">\n",
       "  <thead>\n",
       "    <tr style=\"text-align: right;\">\n",
       "      <th></th>\n",
       "      <th>ID</th>\n",
       "      <th>Price</th>\n",
       "      <th>Levy</th>\n",
       "      <th>Manufacturer</th>\n",
       "      <th>Model</th>\n",
       "      <th>Prod. year</th>\n",
       "      <th>Category</th>\n",
       "      <th>Leather interior</th>\n",
       "      <th>Fuel type</th>\n",
       "      <th>Engine volume</th>\n",
       "      <th>Mileage</th>\n",
       "      <th>Cylinders</th>\n",
       "      <th>Gear box type</th>\n",
       "      <th>Drive wheels</th>\n",
       "      <th>Doors</th>\n",
       "      <th>Wheel</th>\n",
       "      <th>Color</th>\n",
       "      <th>Airbags</th>\n",
       "    </tr>\n",
       "  </thead>\n",
       "  <tbody>\n",
       "    <tr>\n",
       "      <th>0</th>\n",
       "      <td>45654403</td>\n",
       "      <td>13328</td>\n",
       "      <td>1399</td>\n",
       "      <td>LEXUS</td>\n",
       "      <td>RX 450</td>\n",
       "      <td>2010</td>\n",
       "      <td>Jeep</td>\n",
       "      <td>Yes</td>\n",
       "      <td>Hybrid</td>\n",
       "      <td>3.5</td>\n",
       "      <td>186005 km</td>\n",
       "      <td>6.0</td>\n",
       "      <td>Automatic</td>\n",
       "      <td>4x4</td>\n",
       "      <td>04-May</td>\n",
       "      <td>Left wheel</td>\n",
       "      <td>Silver</td>\n",
       "      <td>12</td>\n",
       "    </tr>\n",
       "    <tr>\n",
       "      <th>1</th>\n",
       "      <td>44731507</td>\n",
       "      <td>16621</td>\n",
       "      <td>1018</td>\n",
       "      <td>CHEVROLET</td>\n",
       "      <td>Equinox</td>\n",
       "      <td>2011</td>\n",
       "      <td>Jeep</td>\n",
       "      <td>No</td>\n",
       "      <td>Petrol</td>\n",
       "      <td>3</td>\n",
       "      <td>192000 km</td>\n",
       "      <td>6.0</td>\n",
       "      <td>Tiptronic</td>\n",
       "      <td>4x4</td>\n",
       "      <td>04-May</td>\n",
       "      <td>Left wheel</td>\n",
       "      <td>Black</td>\n",
       "      <td>8</td>\n",
       "    </tr>\n",
       "    <tr>\n",
       "      <th>2</th>\n",
       "      <td>45774419</td>\n",
       "      <td>8467</td>\n",
       "      <td>-</td>\n",
       "      <td>HONDA</td>\n",
       "      <td>FIT</td>\n",
       "      <td>2006</td>\n",
       "      <td>Hatchback</td>\n",
       "      <td>No</td>\n",
       "      <td>Petrol</td>\n",
       "      <td>1.3</td>\n",
       "      <td>200000 km</td>\n",
       "      <td>4.0</td>\n",
       "      <td>Variator</td>\n",
       "      <td>Front</td>\n",
       "      <td>04-May</td>\n",
       "      <td>Right-hand drive</td>\n",
       "      <td>Black</td>\n",
       "      <td>2</td>\n",
       "    </tr>\n",
       "    <tr>\n",
       "      <th>3</th>\n",
       "      <td>45769185</td>\n",
       "      <td>3607</td>\n",
       "      <td>862</td>\n",
       "      <td>FORD</td>\n",
       "      <td>Escape</td>\n",
       "      <td>2011</td>\n",
       "      <td>Jeep</td>\n",
       "      <td>Yes</td>\n",
       "      <td>Hybrid</td>\n",
       "      <td>2.5</td>\n",
       "      <td>168966 km</td>\n",
       "      <td>4.0</td>\n",
       "      <td>Automatic</td>\n",
       "      <td>4x4</td>\n",
       "      <td>04-May</td>\n",
       "      <td>Left wheel</td>\n",
       "      <td>White</td>\n",
       "      <td>0</td>\n",
       "    </tr>\n",
       "    <tr>\n",
       "      <th>4</th>\n",
       "      <td>45809263</td>\n",
       "      <td>11726</td>\n",
       "      <td>446</td>\n",
       "      <td>HONDA</td>\n",
       "      <td>FIT</td>\n",
       "      <td>2014</td>\n",
       "      <td>Hatchback</td>\n",
       "      <td>Yes</td>\n",
       "      <td>Petrol</td>\n",
       "      <td>1.3</td>\n",
       "      <td>91901 km</td>\n",
       "      <td>4.0</td>\n",
       "      <td>Automatic</td>\n",
       "      <td>Front</td>\n",
       "      <td>04-May</td>\n",
       "      <td>Left wheel</td>\n",
       "      <td>Silver</td>\n",
       "      <td>4</td>\n",
       "    </tr>\n",
       "  </tbody>\n",
       "</table>\n",
       "</div>"
      ],
      "text/plain": [
       "         ID  Price  Levy Manufacturer    Model  Prod. year   Category  \\\n",
       "0  45654403  13328  1399        LEXUS   RX 450        2010       Jeep   \n",
       "1  44731507  16621  1018    CHEVROLET  Equinox        2011       Jeep   \n",
       "2  45774419   8467     -        HONDA      FIT        2006  Hatchback   \n",
       "3  45769185   3607   862         FORD   Escape        2011       Jeep   \n",
       "4  45809263  11726   446        HONDA      FIT        2014  Hatchback   \n",
       "\n",
       "  Leather interior Fuel type Engine volume    Mileage  Cylinders  \\\n",
       "0              Yes    Hybrid           3.5  186005 km        6.0   \n",
       "1               No    Petrol             3  192000 km        6.0   \n",
       "2               No    Petrol           1.3  200000 km        4.0   \n",
       "3              Yes    Hybrid           2.5  168966 km        4.0   \n",
       "4              Yes    Petrol           1.3   91901 km        4.0   \n",
       "\n",
       "  Gear box type Drive wheels   Doors             Wheel   Color  Airbags  \n",
       "0     Automatic          4x4  04-May        Left wheel  Silver       12  \n",
       "1     Tiptronic          4x4  04-May        Left wheel   Black        8  \n",
       "2      Variator        Front  04-May  Right-hand drive   Black        2  \n",
       "3     Automatic          4x4  04-May        Left wheel   White        0  \n",
       "4     Automatic        Front  04-May        Left wheel  Silver        4  "
      ]
     },
     "execution_count": 3,
     "metadata": {},
     "output_type": "execute_result"
    }
   ],
   "source": [
    "# first we start by visualizing the data we will use \n",
    "data_set = pd.read_csv('/kaggle/input/car-price-prediction-challenge/car_price_prediction.csv')\n",
    "data_set.head(5)"
   ]
  },
  {
   "cell_type": "code",
   "execution_count": 4,
   "id": "5fcf12d8",
   "metadata": {
    "execution": {
     "iopub.execute_input": "2022-11-03T22:01:37.749249Z",
     "iopub.status.busy": "2022-11-03T22:01:37.748836Z",
     "iopub.status.idle": "2022-11-03T22:01:37.754922Z",
     "shell.execute_reply": "2022-11-03T22:01:37.753396Z"
    },
    "papermill": {
     "duration": 0.023833,
     "end_time": "2022-11-03T22:01:37.758558",
     "exception": false,
     "start_time": "2022-11-03T22:01:37.734725",
     "status": "completed"
    },
    "tags": []
   },
   "outputs": [
    {
     "name": "stdout",
     "output_type": "stream",
     "text": [
      "the shape of the car_price_prediction table is :  (19237, 18)\n"
     ]
    }
   ],
   "source": [
    "# print the shape of the used data frame \n",
    "print('the shape of the car_price_prediction table is : ', data_set.shape)"
   ]
  },
  {
   "cell_type": "code",
   "execution_count": 5,
   "id": "0c9c9719",
   "metadata": {
    "execution": {
     "iopub.execute_input": "2022-11-03T22:01:37.786253Z",
     "iopub.status.busy": "2022-11-03T22:01:37.785831Z",
     "iopub.status.idle": "2022-11-03T22:01:37.794656Z",
     "shell.execute_reply": "2022-11-03T22:01:37.793177Z"
    },
    "papermill": {
     "duration": 0.026572,
     "end_time": "2022-11-03T22:01:37.797520",
     "exception": false,
     "start_time": "2022-11-03T22:01:37.770948",
     "status": "completed"
    },
    "tags": []
   },
   "outputs": [
    {
     "data": {
      "text/plain": [
       "Index(['ID', 'Price', 'Levy', 'Manufacturer', 'Model', 'Prod. year',\n",
       "       'Category', 'Leather interior', 'Fuel type', 'Engine volume', 'Mileage',\n",
       "       'Cylinders', 'Gear box type', 'Drive wheels', 'Doors', 'Wheel', 'Color',\n",
       "       'Airbags'],\n",
       "      dtype='object')"
      ]
     },
     "execution_count": 5,
     "metadata": {},
     "output_type": "execute_result"
    }
   ],
   "source": [
    "data_set.columns"
   ]
  },
  {
   "cell_type": "code",
   "execution_count": 6,
   "id": "f25d9c99",
   "metadata": {
    "execution": {
     "iopub.execute_input": "2022-11-03T22:01:37.825666Z",
     "iopub.status.busy": "2022-11-03T22:01:37.825168Z",
     "iopub.status.idle": "2022-11-03T22:01:37.873011Z",
     "shell.execute_reply": "2022-11-03T22:01:37.871131Z"
    },
    "papermill": {
     "duration": 0.066282,
     "end_time": "2022-11-03T22:01:37.876821",
     "exception": false,
     "start_time": "2022-11-03T22:01:37.810539",
     "status": "completed"
    },
    "tags": []
   },
   "outputs": [
    {
     "name": "stdout",
     "output_type": "stream",
     "text": [
      "<class 'pandas.core.frame.DataFrame'>\n",
      "RangeIndex: 19237 entries, 0 to 19236\n",
      "Data columns (total 18 columns):\n",
      " #   Column            Non-Null Count  Dtype  \n",
      "---  ------            --------------  -----  \n",
      " 0   ID                19237 non-null  int64  \n",
      " 1   Price             19237 non-null  int64  \n",
      " 2   Levy              19237 non-null  object \n",
      " 3   Manufacturer      19237 non-null  object \n",
      " 4   Model             19237 non-null  object \n",
      " 5   Prod. year        19237 non-null  int64  \n",
      " 6   Category          19237 non-null  object \n",
      " 7   Leather interior  19237 non-null  object \n",
      " 8   Fuel type         19237 non-null  object \n",
      " 9   Engine volume     19237 non-null  object \n",
      " 10  Mileage           19237 non-null  object \n",
      " 11  Cylinders         19237 non-null  float64\n",
      " 12  Gear box type     19237 non-null  object \n",
      " 13  Drive wheels      19237 non-null  object \n",
      " 14  Doors             19237 non-null  object \n",
      " 15  Wheel             19237 non-null  object \n",
      " 16  Color             19237 non-null  object \n",
      " 17  Airbags           19237 non-null  int64  \n",
      "dtypes: float64(1), int64(4), object(13)\n",
      "memory usage: 2.6+ MB\n"
     ]
    }
   ],
   "source": [
    "data_set.info()"
   ]
  },
  {
   "cell_type": "code",
   "execution_count": 7,
   "id": "1568b029",
   "metadata": {
    "execution": {
     "iopub.execute_input": "2022-11-03T22:01:37.915688Z",
     "iopub.status.busy": "2022-11-03T22:01:37.914312Z",
     "iopub.status.idle": "2022-11-03T22:01:38.097323Z",
     "shell.execute_reply": "2022-11-03T22:01:38.096152Z"
    },
    "papermill": {
     "duration": 0.204564,
     "end_time": "2022-11-03T22:01:38.100272",
     "exception": false,
     "start_time": "2022-11-03T22:01:37.895708",
     "status": "completed"
    },
    "tags": []
   },
   "outputs": [
    {
     "data": {
      "text/plain": [
       "<AxesSubplot:ylabel='None'>"
      ]
     },
     "execution_count": 7,
     "metadata": {},
     "output_type": "execute_result"
    },
    {
     "data": {
      "image/png": "[encoded data removed]",
      "text/plain": [
       "<Figure size 432x288 with 1 Axes>"
      ]
     },
     "metadata": {},
     "output_type": "display_data"
    }
   ],
   "source": [
    "# visualize the total values using a pie plot\n",
    "data_set.dtypes.value_counts().plot.pie()"
   ]
  },
  {
   "cell_type": "code",
   "execution_count": 8,
   "id": "d81504dd",
   "metadata": {
    "execution": {
     "iopub.execute_input": "2022-11-03T22:01:38.129707Z",
     "iopub.status.busy": "2022-11-03T22:01:38.129236Z",
     "iopub.status.idle": "2022-11-03T22:01:38.165845Z",
     "shell.execute_reply": "2022-11-03T22:01:38.164401Z"
    },
    "papermill": {
     "duration": 0.055041,
     "end_time": "2022-11-03T22:01:38.168788",
     "exception": false,
     "start_time": "2022-11-03T22:01:38.113747",
     "status": "completed"
    },
    "tags": []
   },
   "outputs": [
    {
     "data": {
      "text/html": [
       "<div>\n",
       "<style scoped>\n",
       "    .dataframe tbody tr th:only-of-type {\n",
       "        vertical-align: middle;\n",
       "    }\n",
       "\n",
       "    .dataframe tbody tr th {\n",
       "        vertical-align: top;\n",
       "    }\n",
       "\n",
       "    .dataframe thead th {\n",
       "        text-align: right;\n",
       "    }\n",
       "</style>\n",
       "<table border=\"1\" class=\"dataframe\">\n",
       "  <thead>\n",
       "    <tr style=\"text-align: right;\">\n",
       "      <th></th>\n",
       "      <th>Price</th>\n",
       "      <th>Prod. year</th>\n",
       "      <th>Cylinders</th>\n",
       "      <th>Airbags</th>\n",
       "    </tr>\n",
       "  </thead>\n",
       "  <tbody>\n",
       "    <tr>\n",
       "      <th>count</th>\n",
       "      <td>1.923700e+04</td>\n",
       "      <td>19237.000000</td>\n",
       "      <td>19237.000000</td>\n",
       "      <td>19237.000000</td>\n",
       "    </tr>\n",
       "    <tr>\n",
       "      <th>mean</th>\n",
       "      <td>1.855593e+04</td>\n",
       "      <td>2010.912824</td>\n",
       "      <td>4.582991</td>\n",
       "      <td>6.582627</td>\n",
       "    </tr>\n",
       "    <tr>\n",
       "      <th>std</th>\n",
       "      <td>1.905813e+05</td>\n",
       "      <td>5.668673</td>\n",
       "      <td>1.199933</td>\n",
       "      <td>4.320168</td>\n",
       "    </tr>\n",
       "    <tr>\n",
       "      <th>min</th>\n",
       "      <td>1.000000e+00</td>\n",
       "      <td>1939.000000</td>\n",
       "      <td>1.000000</td>\n",
       "      <td>0.000000</td>\n",
       "    </tr>\n",
       "    <tr>\n",
       "      <th>25%</th>\n",
       "      <td>5.331000e+03</td>\n",
       "      <td>2009.000000</td>\n",
       "      <td>4.000000</td>\n",
       "      <td>4.000000</td>\n",
       "    </tr>\n",
       "    <tr>\n",
       "      <th>50%</th>\n",
       "      <td>1.317200e+04</td>\n",
       "      <td>2012.000000</td>\n",
       "      <td>4.000000</td>\n",
       "      <td>6.000000</td>\n",
       "    </tr>\n",
       "    <tr>\n",
       "      <th>75%</th>\n",
       "      <td>2.207500e+04</td>\n",
       "      <td>2015.000000</td>\n",
       "      <td>4.000000</td>\n",
       "      <td>12.000000</td>\n",
       "    </tr>\n",
       "    <tr>\n",
       "      <th>max</th>\n",
       "      <td>2.630750e+07</td>\n",
       "      <td>2020.000000</td>\n",
       "      <td>16.000000</td>\n",
       "      <td>16.000000</td>\n",
       "    </tr>\n",
       "  </tbody>\n",
       "</table>\n",
       "</div>"
      ],
      "text/plain": [
       "              Price    Prod. year     Cylinders       Airbags\n",
       "count  1.923700e+04  19237.000000  19237.000000  19237.000000\n",
       "mean   1.855593e+04   2010.912824      4.582991      6.582627\n",
       "std    1.905813e+05      5.668673      1.199933      4.320168\n",
       "min    1.000000e+00   1939.000000      1.000000      0.000000\n",
       "25%    5.331000e+03   2009.000000      4.000000      4.000000\n",
       "50%    1.317200e+04   2012.000000      4.000000      6.000000\n",
       "75%    2.207500e+04   2015.000000      4.000000     12.000000\n",
       "max    2.630750e+07   2020.000000     16.000000     16.000000"
      ]
     },
     "execution_count": 8,
     "metadata": {},
     "output_type": "execute_result"
    }
   ],
   "source": [
    "#data.columns\n",
    "num_col = ['Price', 'Prod. year', 'Cylinders', 'Airbags']\n",
    "data_set[num_col].describe()"
   ]
  },
  {
   "cell_type": "markdown",
   "id": "44e402ca",
   "metadata": {
    "papermill": {
     "duration": 0.013274,
     "end_time": "2022-11-03T22:01:38.196641",
     "exception": false,
     "start_time": "2022-11-03T22:01:38.183367",
     "status": "completed"
    },
    "tags": []
   },
   "source": [
    "# Data Cleaning/ Pre-Processing/ Exploratory Data Analysis"
   ]
  },
  {
   "cell_type": "code",
   "execution_count": 9,
   "id": "3d48b46c",
   "metadata": {
    "execution": {
     "iopub.execute_input": "2022-11-03T22:01:38.226511Z",
     "iopub.status.busy": "2022-11-03T22:01:38.225594Z",
     "iopub.status.idle": "2022-11-03T22:01:38.238648Z",
     "shell.execute_reply": "2022-11-03T22:01:38.237259Z"
    },
    "papermill": {
     "duration": 0.030865,
     "end_time": "2022-11-03T22:01:38.241424",
     "exception": false,
     "start_time": "2022-11-03T22:01:38.210559",
     "status": "completed"
    },
    "tags": []
   },
   "outputs": [
    {
     "data": {
      "text/plain": [
       "Index(['ID', 'Price', 'Levy', 'Manufacturer', 'Model', 'Prod. year',\n",
       "       'Category', 'Leather interior', 'Fuel type', 'Engine volume', 'Mileage',\n",
       "       'Cylinders', 'Gear box type', 'Drive wheels', 'Doors', 'Wheel', 'Color',\n",
       "       'Airbags'],\n",
       "      dtype='object')"
      ]
     },
     "execution_count": 9,
     "metadata": {},
     "output_type": "execute_result"
    }
   ],
   "source": [
    "# we will make a copy from the original data_set to work on it \n",
    "data = data_set.copy()\n",
    "data.columns"
   ]
  },
  {
   "cell_type": "code",
   "execution_count": 10,
   "id": "cf7ce83d",
   "metadata": {
    "execution": {
     "iopub.execute_input": "2022-11-03T22:01:38.271993Z",
     "iopub.status.busy": "2022-11-03T22:01:38.271076Z",
     "iopub.status.idle": "2022-11-03T22:01:38.300759Z",
     "shell.execute_reply": "2022-11-03T22:01:38.298978Z"
    },
    "papermill": {
     "duration": 0.049185,
     "end_time": "2022-11-03T22:01:38.304161",
     "exception": false,
     "start_time": "2022-11-03T22:01:38.254976",
     "status": "completed"
    },
    "tags": []
   },
   "outputs": [
    {
     "data": {
      "text/html": [
       "<div>\n",
       "<style scoped>\n",
       "    .dataframe tbody tr th:only-of-type {\n",
       "        vertical-align: middle;\n",
       "    }\n",
       "\n",
       "    .dataframe tbody tr th {\n",
       "        vertical-align: top;\n",
       "    }\n",
       "\n",
       "    .dataframe thead th {\n",
       "        text-align: right;\n",
       "    }\n",
       "</style>\n",
       "<table border=\"1\" class=\"dataframe\">\n",
       "  <thead>\n",
       "    <tr style=\"text-align: right;\">\n",
       "      <th></th>\n",
       "      <th>Price</th>\n",
       "      <th>Levy</th>\n",
       "      <th>Manufacturer</th>\n",
       "      <th>Model</th>\n",
       "      <th>Prod. year</th>\n",
       "      <th>Category</th>\n",
       "      <th>Leather interior</th>\n",
       "      <th>Fuel type</th>\n",
       "      <th>Engine volume</th>\n",
       "      <th>Mileage</th>\n",
       "      <th>Cylinders</th>\n",
       "      <th>Gear box type</th>\n",
       "      <th>Drive wheels</th>\n",
       "      <th>Doors</th>\n",
       "      <th>Wheel</th>\n",
       "      <th>Color</th>\n",
       "      <th>Airbags</th>\n",
       "    </tr>\n",
       "  </thead>\n",
       "  <tbody>\n",
       "    <tr>\n",
       "      <th>0</th>\n",
       "      <td>13328</td>\n",
       "      <td>1399</td>\n",
       "      <td>LEXUS</td>\n",
       "      <td>RX 450</td>\n",
       "      <td>2010</td>\n",
       "      <td>Jeep</td>\n",
       "      <td>Yes</td>\n",
       "      <td>Hybrid</td>\n",
       "      <td>3.5</td>\n",
       "      <td>186005 km</td>\n",
       "      <td>6.0</td>\n",
       "      <td>Automatic</td>\n",
       "      <td>4x4</td>\n",
       "      <td>04-May</td>\n",
       "      <td>Left wheel</td>\n",
       "      <td>Silver</td>\n",
       "      <td>12</td>\n",
       "    </tr>\n",
       "    <tr>\n",
       "      <th>1</th>\n",
       "      <td>16621</td>\n",
       "      <td>1018</td>\n",
       "      <td>CHEVROLET</td>\n",
       "      <td>Equinox</td>\n",
       "      <td>2011</td>\n",
       "      <td>Jeep</td>\n",
       "      <td>No</td>\n",
       "      <td>Petrol</td>\n",
       "      <td>3</td>\n",
       "      <td>192000 km</td>\n",
       "      <td>6.0</td>\n",
       "      <td>Tiptronic</td>\n",
       "      <td>4x4</td>\n",
       "      <td>04-May</td>\n",
       "      <td>Left wheel</td>\n",
       "      <td>Black</td>\n",
       "      <td>8</td>\n",
       "    </tr>\n",
       "    <tr>\n",
       "      <th>2</th>\n",
       "      <td>8467</td>\n",
       "      <td>-</td>\n",
       "      <td>HONDA</td>\n",
       "      <td>FIT</td>\n",
       "      <td>2006</td>\n",
       "      <td>Hatchback</td>\n",
       "      <td>No</td>\n",
       "      <td>Petrol</td>\n",
       "      <td>1.3</td>\n",
       "      <td>200000 km</td>\n",
       "      <td>4.0</td>\n",
       "      <td>Variator</td>\n",
       "      <td>Front</td>\n",
       "      <td>04-May</td>\n",
       "      <td>Right-hand drive</td>\n",
       "      <td>Black</td>\n",
       "      <td>2</td>\n",
       "    </tr>\n",
       "  </tbody>\n",
       "</table>\n",
       "</div>"
      ],
      "text/plain": [
       "   Price  Levy Manufacturer    Model  Prod. year   Category Leather interior  \\\n",
       "0  13328  1399        LEXUS   RX 450        2010       Jeep              Yes   \n",
       "1  16621  1018    CHEVROLET  Equinox        2011       Jeep               No   \n",
       "2   8467     -        HONDA      FIT        2006  Hatchback               No   \n",
       "\n",
       "  Fuel type Engine volume    Mileage  Cylinders Gear box type Drive wheels  \\\n",
       "0    Hybrid           3.5  186005 km        6.0     Automatic          4x4   \n",
       "1    Petrol             3  192000 km        6.0     Tiptronic          4x4   \n",
       "2    Petrol           1.3  200000 km        4.0      Variator        Front   \n",
       "\n",
       "    Doors             Wheel   Color  Airbags  \n",
       "0  04-May        Left wheel  Silver       12  \n",
       "1  04-May        Left wheel   Black        8  \n",
       "2  04-May  Right-hand drive   Black        2  "
      ]
     },
     "execution_count": 10,
     "metadata": {},
     "output_type": "execute_result"
    }
   ],
   "source": [
    "# we can see that the ID field is useless \n",
    "data.drop(columns='ID', inplace=True)\n",
    "data.head(3)"
   ]
  },
  {
   "cell_type": "code",
   "execution_count": 11,
   "id": "8884d82b",
   "metadata": {
    "execution": {
     "iopub.execute_input": "2022-11-03T22:01:38.335341Z",
     "iopub.status.busy": "2022-11-03T22:01:38.334586Z",
     "iopub.status.idle": "2022-11-03T22:01:38.345629Z",
     "shell.execute_reply": "2022-11-03T22:01:38.343950Z"
    },
    "papermill": {
     "duration": 0.029913,
     "end_time": "2022-11-03T22:01:38.348744",
     "exception": false,
     "start_time": "2022-11-03T22:01:38.318831",
     "status": "completed"
    },
    "tags": []
   },
   "outputs": [],
   "source": [
    "# we have to rename some columns to make our work more easy \n",
    "data.rename(columns={'Prod. year': 'Prod_year'}, inplace=True)\n",
    "data.rename(columns={'Leather interior': 'Leather_interior'}, inplace=True)\n",
    "data.rename(columns={'Fuel type': 'Fuel_type'}, inplace=True)\n",
    "data.rename(columns={'Engine volume': 'Engine_volume'}, inplace=True)\n",
    "data.rename(columns={'Gear box type': 'Gear_box_type'}, inplace=True)\n",
    "data.rename(columns={'Drive wheels': 'Drive_wheels'}, inplace=True)"
   ]
  },
  {
   "cell_type": "code",
   "execution_count": 12,
   "id": "55b326c5",
   "metadata": {
    "execution": {
     "iopub.execute_input": "2022-11-03T22:01:38.379316Z",
     "iopub.status.busy": "2022-11-03T22:01:38.378870Z",
     "iopub.status.idle": "2022-11-03T22:01:38.425973Z",
     "shell.execute_reply": "2022-11-03T22:01:38.424332Z"
    },
    "papermill": {
     "duration": 0.066539,
     "end_time": "2022-11-03T22:01:38.429137",
     "exception": false,
     "start_time": "2022-11-03T22:01:38.362598",
     "status": "completed"
    },
    "tags": []
   },
   "outputs": [
    {
     "data": {
      "text/plain": [
       "(15725, 17)"
      ]
     },
     "execution_count": 12,
     "metadata": {},
     "output_type": "execute_result"
    }
   ],
   "source": [
    "# we will start by droping duplicates if they exists\n",
    "data.drop_duplicates(inplace=True)\n",
    "data.shape  # he new shape is (15725, 17)"
   ]
  },
  {
   "cell_type": "code",
   "execution_count": 13,
   "id": "d73b0f19",
   "metadata": {
    "execution": {
     "iopub.execute_input": "2022-11-03T22:01:38.458975Z",
     "iopub.status.busy": "2022-11-03T22:01:38.458516Z",
     "iopub.status.idle": "2022-11-03T22:01:38.481074Z",
     "shell.execute_reply": "2022-11-03T22:01:38.479134Z"
    },
    "papermill": {
     "duration": 0.041419,
     "end_time": "2022-11-03T22:01:38.484482",
     "exception": false,
     "start_time": "2022-11-03T22:01:38.443063",
     "status": "completed"
    },
    "tags": []
   },
   "outputs": [
    {
     "data": {
      "text/plain": [
       "Price               0\n",
       "Levy                0\n",
       "Manufacturer        0\n",
       "Model               0\n",
       "Prod_year           0\n",
       "Category            0\n",
       "Leather_interior    0\n",
       "Fuel_type           0\n",
       "Engine_volume       0\n",
       "Mileage             0\n",
       "Cylinders           0\n",
       "Gear_box_type       0\n",
       "Drive_wheels        0\n",
       "Doors               0\n",
       "Wheel               0\n",
       "Color               0\n",
       "Airbags             0\n",
       "dtype: int64"
      ]
     },
     "execution_count": 13,
     "metadata": {},
     "output_type": "execute_result"
    }
   ],
   "source": [
    "# then will check the number of missing values in each column of training data\n",
    "#missing = data.isna().sum()\n",
    "missing = data.isnull().sum()\n",
    "missing"
   ]
  },
  {
   "cell_type": "code",
   "execution_count": 14,
   "id": "22f90908",
   "metadata": {
    "execution": {
     "iopub.execute_input": "2022-11-03T22:01:38.516124Z",
     "iopub.status.busy": "2022-11-03T22:01:38.515672Z",
     "iopub.status.idle": "2022-11-03T22:01:38.539775Z",
     "shell.execute_reply": "2022-11-03T22:01:38.538292Z"
    },
    "papermill": {
     "duration": 0.043614,
     "end_time": "2022-11-03T22:01:38.542510",
     "exception": false,
     "start_time": "2022-11-03T22:01:38.498896",
     "status": "completed"
    },
    "tags": []
   },
   "outputs": [
    {
     "data": {
      "text/html": [
       "<div>\n",
       "<style scoped>\n",
       "    .dataframe tbody tr th:only-of-type {\n",
       "        vertical-align: middle;\n",
       "    }\n",
       "\n",
       "    .dataframe tbody tr th {\n",
       "        vertical-align: top;\n",
       "    }\n",
       "\n",
       "    .dataframe thead th {\n",
       "        text-align: right;\n",
       "    }\n",
       "</style>\n",
       "<table border=\"1\" class=\"dataframe\">\n",
       "  <thead>\n",
       "    <tr style=\"text-align: right;\">\n",
       "      <th></th>\n",
       "      <th>Price</th>\n",
       "      <th>Levy</th>\n",
       "      <th>Manufacturer</th>\n",
       "      <th>Model</th>\n",
       "      <th>Prod_year</th>\n",
       "      <th>Category</th>\n",
       "      <th>Leather_interior</th>\n",
       "      <th>Fuel_type</th>\n",
       "      <th>Engine_volume</th>\n",
       "      <th>Mileage</th>\n",
       "      <th>Cylinders</th>\n",
       "      <th>Gear_box_type</th>\n",
       "      <th>Drive_wheels</th>\n",
       "      <th>Doors</th>\n",
       "      <th>Wheel</th>\n",
       "      <th>Color</th>\n",
       "      <th>Airbags</th>\n",
       "    </tr>\n",
       "  </thead>\n",
       "  <tbody>\n",
       "    <tr>\n",
       "      <th>0</th>\n",
       "      <td>13328</td>\n",
       "      <td>1399</td>\n",
       "      <td>LEXUS</td>\n",
       "      <td>RX 450</td>\n",
       "      <td>2010</td>\n",
       "      <td>Jeep</td>\n",
       "      <td>Yes</td>\n",
       "      <td>Hybrid</td>\n",
       "      <td>3.5</td>\n",
       "      <td>186005 km</td>\n",
       "      <td>6.0</td>\n",
       "      <td>Automatic</td>\n",
       "      <td>4x4</td>\n",
       "      <td>04-May</td>\n",
       "      <td>Left wheel</td>\n",
       "      <td>Silver</td>\n",
       "      <td>12</td>\n",
       "    </tr>\n",
       "    <tr>\n",
       "      <th>1</th>\n",
       "      <td>16621</td>\n",
       "      <td>1018</td>\n",
       "      <td>CHEVROLET</td>\n",
       "      <td>Equinox</td>\n",
       "      <td>2011</td>\n",
       "      <td>Jeep</td>\n",
       "      <td>No</td>\n",
       "      <td>Petrol</td>\n",
       "      <td>3</td>\n",
       "      <td>192000 km</td>\n",
       "      <td>6.0</td>\n",
       "      <td>Tiptronic</td>\n",
       "      <td>4x4</td>\n",
       "      <td>04-May</td>\n",
       "      <td>Left wheel</td>\n",
       "      <td>Black</td>\n",
       "      <td>8</td>\n",
       "    </tr>\n",
       "    <tr>\n",
       "      <th>2</th>\n",
       "      <td>8467</td>\n",
       "      <td>-</td>\n",
       "      <td>HONDA</td>\n",
       "      <td>FIT</td>\n",
       "      <td>2006</td>\n",
       "      <td>Hatchback</td>\n",
       "      <td>No</td>\n",
       "      <td>Petrol</td>\n",
       "      <td>1.3</td>\n",
       "      <td>200000 km</td>\n",
       "      <td>4.0</td>\n",
       "      <td>Variator</td>\n",
       "      <td>Front</td>\n",
       "      <td>04-May</td>\n",
       "      <td>Right-hand drive</td>\n",
       "      <td>Black</td>\n",
       "      <td>2</td>\n",
       "    </tr>\n",
       "    <tr>\n",
       "      <th>3</th>\n",
       "      <td>3607</td>\n",
       "      <td>862</td>\n",
       "      <td>FORD</td>\n",
       "      <td>Escape</td>\n",
       "      <td>2011</td>\n",
       "      <td>Jeep</td>\n",
       "      <td>Yes</td>\n",
       "      <td>Hybrid</td>\n",
       "      <td>2.5</td>\n",
       "      <td>168966 km</td>\n",
       "      <td>4.0</td>\n",
       "      <td>Automatic</td>\n",
       "      <td>4x4</td>\n",
       "      <td>04-May</td>\n",
       "      <td>Left wheel</td>\n",
       "      <td>White</td>\n",
       "      <td>0</td>\n",
       "    </tr>\n",
       "    <tr>\n",
       "      <th>4</th>\n",
       "      <td>11726</td>\n",
       "      <td>446</td>\n",
       "      <td>HONDA</td>\n",
       "      <td>FIT</td>\n",
       "      <td>2014</td>\n",
       "      <td>Hatchback</td>\n",
       "      <td>Yes</td>\n",
       "      <td>Petrol</td>\n",
       "      <td>1.3</td>\n",
       "      <td>91901 km</td>\n",
       "      <td>4.0</td>\n",
       "      <td>Automatic</td>\n",
       "      <td>Front</td>\n",
       "      <td>04-May</td>\n",
       "      <td>Left wheel</td>\n",
       "      <td>Silver</td>\n",
       "      <td>4</td>\n",
       "    </tr>\n",
       "  </tbody>\n",
       "</table>\n",
       "</div>"
      ],
      "text/plain": [
       "   Price  Levy Manufacturer    Model  Prod_year   Category Leather_interior  \\\n",
       "0  13328  1399        LEXUS   RX 450       2010       Jeep              Yes   \n",
       "1  16621  1018    CHEVROLET  Equinox       2011       Jeep               No   \n",
       "2   8467     -        HONDA      FIT       2006  Hatchback               No   \n",
       "3   3607   862         FORD   Escape       2011       Jeep              Yes   \n",
       "4  11726   446        HONDA      FIT       2014  Hatchback              Yes   \n",
       "\n",
       "  Fuel_type Engine_volume    Mileage  Cylinders Gear_box_type Drive_wheels  \\\n",
       "0    Hybrid           3.5  186005 km        6.0     Automatic          4x4   \n",
       "1    Petrol             3  192000 km        6.0     Tiptronic          4x4   \n",
       "2    Petrol           1.3  200000 km        4.0      Variator        Front   \n",
       "3    Hybrid           2.5  168966 km        4.0     Automatic          4x4   \n",
       "4    Petrol           1.3   91901 km        4.0     Automatic        Front   \n",
       "\n",
       "    Doors             Wheel   Color  Airbags  \n",
       "0  04-May        Left wheel  Silver       12  \n",
       "1  04-May        Left wheel   Black        8  \n",
       "2  04-May  Right-hand drive   Black        2  \n",
       "3  04-May        Left wheel   White        0  \n",
       "4  04-May        Left wheel  Silver        4  "
      ]
     },
     "execution_count": 14,
     "metadata": {},
     "output_type": "execute_result"
    }
   ],
   "source": [
    "data.head()"
   ]
  },
  {
   "cell_type": "code",
   "execution_count": 15,
   "id": "51344e6c",
   "metadata": {
    "execution": {
     "iopub.execute_input": "2022-11-03T22:01:38.574245Z",
     "iopub.status.busy": "2022-11-03T22:01:38.573810Z",
     "iopub.status.idle": "2022-11-03T22:01:38.588032Z",
     "shell.execute_reply": "2022-11-03T22:01:38.586654Z"
    },
    "papermill": {
     "duration": 0.034276,
     "end_time": "2022-11-03T22:01:38.591210",
     "exception": false,
     "start_time": "2022-11-03T22:01:38.556934",
     "status": "completed"
    },
    "tags": []
   },
   "outputs": [
    {
     "data": {
      "text/plain": [
       "-       5684\n",
       "891      387\n",
       "765      387\n",
       "639      340\n",
       "640      336\n",
       "        ... \n",
       "2177       1\n",
       "5666       1\n",
       "3156       1\n",
       "1719       1\n",
       "1901       1\n",
       "Name: Levy, Length: 559, dtype: int64"
      ]
     },
     "execution_count": 15,
     "metadata": {},
     "output_type": "execute_result"
    }
   ],
   "source": [
    "# as we can see from the above table that our data contain some empty cells in the 'Levy' column, thus we decide t check all columns \n",
    "# one by one but we found that 'Levy' is the only column with empty cells.\n",
    "data['Levy'].value_counts()\n",
    "# (5819 is a big number so we can't delete rows with this values thus will use other solutions like imputation)"
   ]
  },
  {
   "cell_type": "markdown",
   "id": "b57c5886",
   "metadata": {
    "papermill": {
     "duration": 0.014669,
     "end_time": "2022-11-03T22:01:38.621242",
     "exception": false,
     "start_time": "2022-11-03T22:01:38.606573",
     "status": "completed"
    },
    "tags": []
   },
   "source": [
    "**Levy column**"
   ]
  },
  {
   "cell_type": "code",
   "execution_count": 16,
   "id": "ea637e3e",
   "metadata": {
    "execution": {
     "iopub.execute_input": "2022-11-03T22:01:38.654090Z",
     "iopub.status.busy": "2022-11-03T22:01:38.653642Z",
     "iopub.status.idle": "2022-11-03T22:01:38.667908Z",
     "shell.execute_reply": "2022-11-03T22:01:38.666766Z"
    },
    "papermill": {
     "duration": 0.033414,
     "end_time": "2022-11-03T22:01:38.671070",
     "exception": false,
     "start_time": "2022-11-03T22:01:38.637656",
     "status": "completed"
    },
    "tags": []
   },
   "outputs": [],
   "source": [
    "# we will replace the '-' with null\n",
    "data['Levy'].replace({'-':np.nan}, inplace = True)\n",
    "# we have to convert the type of the Levy column  to float\n",
    "data['Levy'] = data['Levy'].astype('float64')"
   ]
  },
  {
   "cell_type": "code",
   "execution_count": 17,
   "id": "4dc950bf",
   "metadata": {
    "execution": {
     "iopub.execute_input": "2022-11-03T22:01:38.704023Z",
     "iopub.status.busy": "2022-11-03T22:01:38.702773Z",
     "iopub.status.idle": "2022-11-03T22:01:39.505720Z",
     "shell.execute_reply": "2022-11-03T22:01:39.504450Z"
    },
    "papermill": {
     "duration": 0.823175,
     "end_time": "2022-11-03T22:01:39.508906",
     "exception": false,
     "start_time": "2022-11-03T22:01:38.685731",
     "status": "completed"
    },
    "tags": []
   },
   "outputs": [
    {
     "data": {
      "text/plain": [
       "<AxesSubplot:>"
      ]
     },
     "execution_count": 17,
     "metadata": {},
     "output_type": "execute_result"
    },
    {
     "data": {
      "image/png": "[encoded data removed]",
      "text/plain": [
       "<Figure size 720x480 with 1 Axes>"
      ]
     },
     "metadata": {
      "needs_background": "light"
     },
     "output_type": "display_data"
    }
   ],
   "source": [
    "plt.figure(dpi=120)\n",
    "sns.heatmap(data.isna(),cbar=False)"
   ]
  },
  {
   "cell_type": "markdown",
   "id": "fdf65847",
   "metadata": {
    "papermill": {
     "duration": 0.014879,
     "end_time": "2022-11-03T22:01:39.539261",
     "exception": false,
     "start_time": "2022-11-03T22:01:39.524382",
     "status": "completed"
    },
    "tags": []
   },
   "source": [
    "**Price column**"
   ]
  },
  {
   "cell_type": "code",
   "execution_count": 18,
   "id": "818dec01",
   "metadata": {
    "execution": {
     "iopub.execute_input": "2022-11-03T22:01:39.572347Z",
     "iopub.status.busy": "2022-11-03T22:01:39.571543Z",
     "iopub.status.idle": "2022-11-03T22:01:39.585516Z",
     "shell.execute_reply": "2022-11-03T22:01:39.584004Z"
    },
    "papermill": {
     "duration": 0.033766,
     "end_time": "2022-11-03T22:01:39.588363",
     "exception": false,
     "start_time": "2022-11-03T22:01:39.554597",
     "status": "completed"
    },
    "tags": []
   },
   "outputs": [
    {
     "data": {
      "text/plain": [
       "(14799, 17)"
      ]
     },
     "execution_count": 18,
     "metadata": {},
     "output_type": "execute_result"
    }
   ],
   "source": [
    "# we can see that there are many car with a price under the 500$, this is illogic\n",
    "# we will keep only cars with price greater than 500 $\n",
    "data = data[data['Price'] > 500]\n",
    "data.shape # (14799, 17)"
   ]
  },
  {
   "cell_type": "markdown",
   "id": "8f66957f",
   "metadata": {
    "papermill": {
     "duration": 0.015713,
     "end_time": "2022-11-03T22:01:39.619977",
     "exception": false,
     "start_time": "2022-11-03T22:01:39.604264",
     "status": "completed"
    },
    "tags": []
   },
   "source": [
    "**Engine_volume column**"
   ]
  },
  {
   "cell_type": "code",
   "execution_count": 19,
   "id": "73c9c42b",
   "metadata": {
    "execution": {
     "iopub.execute_input": "2022-11-03T22:01:39.655559Z",
     "iopub.status.busy": "2022-11-03T22:01:39.654710Z",
     "iopub.status.idle": "2022-11-03T22:01:39.676956Z",
     "shell.execute_reply": "2022-11-03T22:01:39.675372Z"
    },
    "papermill": {
     "duration": 0.042951,
     "end_time": "2022-11-03T22:01:39.680148",
     "exception": false,
     "start_time": "2022-11-03T22:01:39.637197",
     "status": "completed"
    },
    "tags": []
   },
   "outputs": [],
   "source": [
    "# The engine_volume column has float values with object type we have to convert them to float\n",
    "# before that we have to deal with the \"Turbo\" cells\n",
    "data['Turbo_engine'] = data['Engine_volume'].str.contains('Turbo')\n",
    "data['Engine_volume'] = data['Engine_volume'].str.slice(0,3)\n",
    "data['Engine_volume'] = data['Engine_volume'].astype('float64')"
   ]
  },
  {
   "cell_type": "markdown",
   "id": "1e3c1d03",
   "metadata": {
    "papermill": {
     "duration": 0.015108,
     "end_time": "2022-11-03T22:01:39.711653",
     "exception": false,
     "start_time": "2022-11-03T22:01:39.696545",
     "status": "completed"
    },
    "tags": []
   },
   "source": [
    "**Mileage column**"
   ]
  },
  {
   "cell_type": "code",
   "execution_count": 20,
   "id": "1c0b191b",
   "metadata": {
    "execution": {
     "iopub.execute_input": "2022-11-03T22:01:39.744564Z",
     "iopub.status.busy": "2022-11-03T22:01:39.744069Z",
     "iopub.status.idle": "2022-11-03T22:01:39.762818Z",
     "shell.execute_reply": "2022-11-03T22:01:39.761563Z"
    },
    "papermill": {
     "duration": 0.038494,
     "end_time": "2022-11-03T22:01:39.765610",
     "exception": false,
     "start_time": "2022-11-03T22:01:39.727116",
     "status": "completed"
    },
    "tags": []
   },
   "outputs": [],
   "source": [
    "# we have to rename the Mileage column to Mileage/km\n",
    "# change the type from object to int\n",
    "data.rename(columns={'Mileage':'Mileage/km'}, inplace=True)\n",
    "data['Mileage/km'] = data['Mileage/km'].str.strip('km')\n",
    "data['Mileage/km'] = data['Mileage/km'].astype('int64')"
   ]
  },
  {
   "cell_type": "markdown",
   "id": "c757e646",
   "metadata": {
    "papermill": {
     "duration": 0.015572,
     "end_time": "2022-11-03T22:01:39.797717",
     "exception": false,
     "start_time": "2022-11-03T22:01:39.782145",
     "status": "completed"
    },
    "tags": []
   },
   "source": [
    "**Cylinders column**"
   ]
  },
  {
   "cell_type": "code",
   "execution_count": 21,
   "id": "e8f75f8f",
   "metadata": {
    "execution": {
     "iopub.execute_input": "2022-11-03T22:01:39.832876Z",
     "iopub.status.busy": "2022-11-03T22:01:39.831959Z",
     "iopub.status.idle": "2022-11-03T22:01:39.839296Z",
     "shell.execute_reply": "2022-11-03T22:01:39.838235Z"
    },
    "papermill": {
     "duration": 0.028199,
     "end_time": "2022-11-03T22:01:39.842255",
     "exception": false,
     "start_time": "2022-11-03T22:01:39.814056",
     "status": "completed"
    },
    "tags": []
   },
   "outputs": [],
   "source": [
    "# change the type of the Cylinders column from float to int it is more logic \n",
    "data['Cylinders'] = data['Cylinders'].astype('int64')"
   ]
  },
  {
   "cell_type": "markdown",
   "id": "9ba216e5",
   "metadata": {
    "papermill": {
     "duration": 0.015637,
     "end_time": "2022-11-03T22:01:39.873765",
     "exception": false,
     "start_time": "2022-11-03T22:01:39.858128",
     "status": "completed"
    },
    "tags": []
   },
   "source": [
    "**Doors column**"
   ]
  },
  {
   "cell_type": "code",
   "execution_count": 22,
   "id": "da9cb9fb",
   "metadata": {
    "execution": {
     "iopub.execute_input": "2022-11-03T22:01:39.911196Z",
     "iopub.status.busy": "2022-11-03T22:01:39.910235Z",
     "iopub.status.idle": "2022-11-03T22:01:39.926149Z",
     "shell.execute_reply": "2022-11-03T22:01:39.924761Z"
    },
    "papermill": {
     "duration": 0.038335,
     "end_time": "2022-11-03T22:01:39.929365",
     "exception": false,
     "start_time": "2022-11-03T22:01:39.891030",
     "status": "completed"
    },
    "tags": []
   },
   "outputs": [],
   "source": [
    "# the column Doors has wrong values like 04-May and 02-Mar\n",
    "# and we have to change its type \n",
    "data['Doors'].replace({'04-May':4, '02-Mar': 2, '>5':5}, inplace = True)\n",
    "data['Doors'] = data['Doors'].astype('int64')"
   ]
  },
  {
   "cell_type": "markdown",
   "id": "69efb677",
   "metadata": {
    "papermill": {
     "duration": 0.015267,
     "end_time": "2022-11-03T22:01:39.960576",
     "exception": false,
     "start_time": "2022-11-03T22:01:39.945309",
     "status": "completed"
    },
    "tags": []
   },
   "source": [
    "**Create the categorical variables set**"
   ]
  },
  {
   "cell_type": "code",
   "execution_count": 23,
   "id": "26eed84b",
   "metadata": {
    "execution": {
     "iopub.execute_input": "2022-11-03T22:01:39.994480Z",
     "iopub.status.busy": "2022-11-03T22:01:39.993972Z",
     "iopub.status.idle": "2022-11-03T22:01:40.015929Z",
     "shell.execute_reply": "2022-11-03T22:01:40.014434Z"
    },
    "papermill": {
     "duration": 0.041937,
     "end_time": "2022-11-03T22:01:40.018619",
     "exception": false,
     "start_time": "2022-11-03T22:01:39.976682",
     "status": "completed"
    },
    "tags": []
   },
   "outputs": [
    {
     "data": {
      "text/html": [
       "<div>\n",
       "<style scoped>\n",
       "    .dataframe tbody tr th:only-of-type {\n",
       "        vertical-align: middle;\n",
       "    }\n",
       "\n",
       "    .dataframe tbody tr th {\n",
       "        vertical-align: top;\n",
       "    }\n",
       "\n",
       "    .dataframe thead th {\n",
       "        text-align: right;\n",
       "    }\n",
       "</style>\n",
       "<table border=\"1\" class=\"dataframe\">\n",
       "  <thead>\n",
       "    <tr style=\"text-align: right;\">\n",
       "      <th></th>\n",
       "      <th>Manufacturer</th>\n",
       "      <th>Model</th>\n",
       "      <th>Category</th>\n",
       "      <th>Leather_interior</th>\n",
       "      <th>Fuel_type</th>\n",
       "      <th>Gear_box_type</th>\n",
       "      <th>Drive_wheels</th>\n",
       "      <th>Wheel</th>\n",
       "      <th>Color</th>\n",
       "      <th>Turbo_engine</th>\n",
       "    </tr>\n",
       "  </thead>\n",
       "  <tbody>\n",
       "    <tr>\n",
       "      <th>0</th>\n",
       "      <td>LEXUS</td>\n",
       "      <td>RX 450</td>\n",
       "      <td>Jeep</td>\n",
       "      <td>Yes</td>\n",
       "      <td>Hybrid</td>\n",
       "      <td>Automatic</td>\n",
       "      <td>4x4</td>\n",
       "      <td>Left wheel</td>\n",
       "      <td>Silver</td>\n",
       "      <td>False</td>\n",
       "    </tr>\n",
       "    <tr>\n",
       "      <th>1</th>\n",
       "      <td>CHEVROLET</td>\n",
       "      <td>Equinox</td>\n",
       "      <td>Jeep</td>\n",
       "      <td>No</td>\n",
       "      <td>Petrol</td>\n",
       "      <td>Tiptronic</td>\n",
       "      <td>4x4</td>\n",
       "      <td>Left wheel</td>\n",
       "      <td>Black</td>\n",
       "      <td>False</td>\n",
       "    </tr>\n",
       "  </tbody>\n",
       "</table>\n",
       "</div>"
      ],
      "text/plain": [
       "  Manufacturer    Model Category Leather_interior Fuel_type Gear_box_type  \\\n",
       "0        LEXUS   RX 450     Jeep              Yes    Hybrid     Automatic   \n",
       "1    CHEVROLET  Equinox     Jeep               No    Petrol     Tiptronic   \n",
       "\n",
       "  Drive_wheels       Wheel   Color  Turbo_engine  \n",
       "0          4x4  Left wheel  Silver         False  \n",
       "1          4x4  Left wheel   Black         False  "
      ]
     },
     "execution_count": 23,
     "metadata": {},
     "output_type": "execute_result"
    }
   ],
   "source": [
    "categorical_col = data.select_dtypes(['object', 'boolean'])\n",
    "categorical_col.head(2)"
   ]
  },
  {
   "cell_type": "markdown",
   "id": "1c3364e4",
   "metadata": {
    "papermill": {
     "duration": 0.015986,
     "end_time": "2022-11-03T22:01:40.050446",
     "exception": false,
     "start_time": "2022-11-03T22:01:40.034460",
     "status": "completed"
    },
    "tags": []
   },
   "source": [
    "**Create the numerical variable set**"
   ]
  },
  {
   "cell_type": "code",
   "execution_count": 24,
   "id": "50c8a065",
   "metadata": {
    "execution": {
     "iopub.execute_input": "2022-11-03T22:01:40.085371Z",
     "iopub.status.busy": "2022-11-03T22:01:40.084564Z",
     "iopub.status.idle": "2022-11-03T22:01:40.102091Z",
     "shell.execute_reply": "2022-11-03T22:01:40.100382Z"
    },
    "papermill": {
     "duration": 0.038988,
     "end_time": "2022-11-03T22:01:40.105202",
     "exception": false,
     "start_time": "2022-11-03T22:01:40.066214",
     "status": "completed"
    },
    "tags": []
   },
   "outputs": [
    {
     "data": {
      "text/html": [
       "<div>\n",
       "<style scoped>\n",
       "    .dataframe tbody tr th:only-of-type {\n",
       "        vertical-align: middle;\n",
       "    }\n",
       "\n",
       "    .dataframe tbody tr th {\n",
       "        vertical-align: top;\n",
       "    }\n",
       "\n",
       "    .dataframe thead th {\n",
       "        text-align: right;\n",
       "    }\n",
       "</style>\n",
       "<table border=\"1\" class=\"dataframe\">\n",
       "  <thead>\n",
       "    <tr style=\"text-align: right;\">\n",
       "      <th></th>\n",
       "      <th>Price</th>\n",
       "      <th>Levy</th>\n",
       "      <th>Prod_year</th>\n",
       "      <th>Engine_volume</th>\n",
       "      <th>Mileage/km</th>\n",
       "      <th>Cylinders</th>\n",
       "      <th>Doors</th>\n",
       "      <th>Airbags</th>\n",
       "    </tr>\n",
       "  </thead>\n",
       "  <tbody>\n",
       "    <tr>\n",
       "      <th>0</th>\n",
       "      <td>13328</td>\n",
       "      <td>1399.0</td>\n",
       "      <td>2010</td>\n",
       "      <td>3.5</td>\n",
       "      <td>186005</td>\n",
       "      <td>6</td>\n",
       "      <td>4</td>\n",
       "      <td>12</td>\n",
       "    </tr>\n",
       "    <tr>\n",
       "      <th>1</th>\n",
       "      <td>16621</td>\n",
       "      <td>1018.0</td>\n",
       "      <td>2011</td>\n",
       "      <td>3.0</td>\n",
       "      <td>192000</td>\n",
       "      <td>6</td>\n",
       "      <td>4</td>\n",
       "      <td>8</td>\n",
       "    </tr>\n",
       "  </tbody>\n",
       "</table>\n",
       "</div>"
      ],
      "text/plain": [
       "   Price    Levy  Prod_year  Engine_volume  Mileage/km  Cylinders  Doors  \\\n",
       "0  13328  1399.0       2010            3.5      186005          6      4   \n",
       "1  16621  1018.0       2011            3.0      192000          6      4   \n",
       "\n",
       "   Airbags  \n",
       "0       12  \n",
       "1        8  "
      ]
     },
     "execution_count": 24,
     "metadata": {},
     "output_type": "execute_result"
    }
   ],
   "source": [
    "numerical_col = data.select_dtypes(['int', 'float'])\n",
    "numerical_col.head(2)"
   ]
  },
  {
   "cell_type": "code",
   "execution_count": 25,
   "id": "bd2affc6",
   "metadata": {
    "execution": {
     "iopub.execute_input": "2022-11-03T22:01:40.140565Z",
     "iopub.status.busy": "2022-11-03T22:01:40.139966Z",
     "iopub.status.idle": "2022-11-03T22:02:27.748392Z",
     "shell.execute_reply": "2022-11-03T22:02:27.746667Z"
    },
    "papermill": {
     "duration": 47.629929,
     "end_time": "2022-11-03T22:02:27.751530",
     "exception": false,
     "start_time": "2022-11-03T22:01:40.121601",
     "status": "completed"
    },
    "tags": []
   },
   "outputs": [
    {
     "data": {
      "image/png": "[encoded data removed]",
      "text/plain": [
       "<Figure size 1440x432 with 1 Axes>"
      ]
     },
     "metadata": {
      "needs_background": "light"
     },
     "output_type": "display_data"
    },
    {
     "data": {
      "image/png": "[encoded data removed]",
      "text/plain": [
       "<Figure size 1440x432 with 1 Axes>"
      ]
     },
     "metadata": {
      "needs_background": "light"
     },
     "output_type": "display_data"
    },
    {
     "data": {
      "image/png": "[encoded data removed]",
      "text/plain": [
       "<Figure size 1440x432 with 1 Axes>"
      ]
     },
     "metadata": {
      "needs_background": "light"
     },
     "output_type": "display_data"
    },
    {
     "data": {
      "image/png": "[encoded data removed]",
      "text/plain": [
       "<Figure size 1440x432 with 1 Axes>"
      ]
     },
     "metadata": {
      "needs_background": "light"
     },
     "output_type": "display_data"
    },
    {
     "data": {
      "image/png": "[encoded data removed]",
      "text/plain": [
       "<Figure size 1440x432 with 1 Axes>"
      ]
     },
     "metadata": {
      "needs_background": "light"
     },
     "output_type": "display_data"
    },
    {
     "data": {
      "image/png": "[encoded data removed]",
      "text/plain": [
       "<Figure size 1440x432 with 1 Axes>"
      ]
     },
     "metadata": {
      "needs_background": "light"
     },
     "output_type": "display_data"
    },
    {
     "data": {
      "image/png": "[encoded data removed]",
      "text/plain": [
       "<Figure size 1440x432 with 1 Axes>"
      ]
     },
     "metadata": {
      "needs_background": "light"
     },
     "output_type": "display_data"
    },
    {
     "data": {
      "image/png": "[encoded data removed]",
      "text/plain": [
       "<Figure size 1440x432 with 1 Axes>"
      ]
     },
     "metadata": {
      "needs_background": "light"
     },
     "output_type": "display_data"
    },
    {
     "data": {
      "image/png": "[encoded data removed]",
      "text/plain": [
       "<Figure size 1440x432 with 1 Axes>"
      ]
     },
     "metadata": {
      "needs_background": "light"
     },
     "output_type": "display_data"
    },
    {
     "data": {
      "image/png": "[encoded data removed]",
      "text/plain": [
       "<Figure size 1440x432 with 1 Axes>"
      ]
     },
     "metadata": {
      "needs_background": "light"
     },
     "output_type": "display_data"
    }
   ],
   "source": [
    "# Plot the categorical variables \n",
    "for col in categorical_col:\n",
    "    plt.figure(figsize=(20,6))\n",
    "    sns.barplot(x=data[col], y=data['Price'])"
   ]
  },
  {
   "cell_type": "code",
   "execution_count": 26,
   "id": "fa148b2d",
   "metadata": {
    "execution": {
     "iopub.execute_input": "2022-11-03T22:02:27.799382Z",
     "iopub.status.busy": "2022-11-03T22:02:27.798417Z",
     "iopub.status.idle": "2022-11-03T22:02:29.981055Z",
     "shell.execute_reply": "2022-11-03T22:02:29.979584Z"
    },
    "papermill": {
     "duration": 2.211444,
     "end_time": "2022-11-03T22:02:29.984300",
     "exception": false,
     "start_time": "2022-11-03T22:02:27.772856",
     "status": "completed"
    },
    "tags": []
   },
   "outputs": [
    {
     "data": {
      "image/png": "[encoded data removed]",
      "text/plain": [
       "<Figure size 1440x432 with 1 Axes>"
      ]
     },
     "metadata": {
      "needs_background": "light"
     },
     "output_type": "display_data"
    },
    {
     "data": {
      "image/png": "[encoded data removed]",
      "text/plain": [
       "<Figure size 1440x432 with 1 Axes>"
      ]
     },
     "metadata": {
      "needs_background": "light"
     },
     "output_type": "display_data"
    },
    {
     "data": {
      "image/png": "[encoded data removed]",
      "text/plain": [
       "<Figure size 1440x432 with 1 Axes>"
      ]
     },
     "metadata": {
      "needs_background": "light"
     },
     "output_type": "display_data"
    },
    {
     "data": {
      "image/png": "[encoded data removed]",
      "text/plain": [
       "<Figure size 1440x432 with 1 Axes>"
      ]
     },
     "metadata": {
      "needs_background": "light"
     },
     "output_type": "display_data"
    },
    {
     "data": {
      "image/png": "[encoded data removed]",
      "text/plain": [
       "<Figure size 1440x432 with 1 Axes>"
      ]
     },
     "metadata": {
      "needs_background": "light"
     },
     "output_type": "display_data"
    },
    {
     "data": {
      "image/png": "[encoded data removed]",
      "text/plain": [
       "<Figure size 1440x432 with 1 Axes>"
      ]
     },
     "metadata": {
      "needs_background": "light"
     },
     "output_type": "display_data"
    },
    {
     "data": {
      "image/png": "[encoded data removed]",
      "text/plain": [
       "<Figure size 1440x432 with 1 Axes>"
      ]
     },
     "metadata": {
      "needs_background": "light"
     },
     "output_type": "display_data"
    },
    {
     "data": {
      "image/png": "[encoded data removed]",
      "text/plain": [
       "<Figure size 1440x432 with 1 Axes>"
      ]
     },
     "metadata": {
      "needs_background": "light"
     },
     "output_type": "display_data"
    }
   ],
   "source": [
    "# Plot the numerical variables \n",
    "for col in numerical_col:\n",
    "    plt.figure(figsize=(20,6))\n",
    "    sns.scatterplot(x=data[col], y=data['Price'])"
   ]
  },
  {
   "cell_type": "markdown",
   "id": "e56b6d3a",
   "metadata": {
    "papermill": {
     "duration": 0.022299,
     "end_time": "2022-11-03T22:02:30.030272",
     "exception": false,
     "start_time": "2022-11-03T22:02:30.007973",
     "status": "completed"
    },
    "tags": []
   },
   "source": [
    "# Pipline"
   ]
  },
  {
   "cell_type": "code",
   "execution_count": 27,
   "id": "b39bc43b",
   "metadata": {
    "execution": {
     "iopub.execute_input": "2022-11-03T22:02:30.078092Z",
     "iopub.status.busy": "2022-11-03T22:02:30.076779Z",
     "iopub.status.idle": "2022-11-03T22:02:30.113624Z",
     "shell.execute_reply": "2022-11-03T22:02:30.112430Z"
    },
    "papermill": {
     "duration": 0.063942,
     "end_time": "2022-11-03T22:02:30.116482",
     "exception": false,
     "start_time": "2022-11-03T22:02:30.052540",
     "status": "completed"
    },
    "tags": []
   },
   "outputs": [],
   "source": [
    "# Separate target from predictors\n",
    "y = data.Price\n",
    "X = data.drop(['Price'], axis=1)\n",
    "\n",
    "# split the data into training and validation subsets\n",
    "X_train_full, X_valid_full, y_train, y_valid = train_test_split(X, y, train_size=0.8, test_size=0.2,random_state=0)\n",
    "# Categorical_col\n",
    "categorical_cols = [cname for cname in X_train_full.columns if X_train_full[cname].nunique() < 10 \n",
    "                    and X_train_full[cname].dtype in ['object','boolean']]\n",
    "\n",
    "# Numerical_col\n",
    "numerical_cols = [cname for cname in X_train_full.columns if X_train_full[cname].dtype in ['int64', 'float64']]\n",
    "\n",
    "\n",
    "my_cols = categorical_cols + numerical_cols\n",
    "X_train = X_train_full[my_cols].copy()\n",
    "X_valid = X_valid_full[my_cols].copy()"
   ]
  },
  {
   "cell_type": "code",
   "execution_count": 28,
   "id": "cf7022f4",
   "metadata": {
    "execution": {
     "iopub.execute_input": "2022-11-03T22:02:30.162892Z",
     "iopub.status.busy": "2022-11-03T22:02:30.162241Z",
     "iopub.status.idle": "2022-11-03T22:02:30.168516Z",
     "shell.execute_reply": "2022-11-03T22:02:30.167596Z"
    },
    "papermill": {
     "duration": 0.033334,
     "end_time": "2022-11-03T22:02:30.171546",
     "exception": false,
     "start_time": "2022-11-03T22:02:30.138212",
     "status": "completed"
    },
    "tags": []
   },
   "outputs": [
    {
     "data": {
      "text/plain": [
       "['Leather_interior', 'Fuel_type', 'Gear_box_type', 'Drive_wheels', 'Wheel']"
      ]
     },
     "execution_count": 28,
     "metadata": {},
     "output_type": "execute_result"
    }
   ],
   "source": [
    "categorical_cols #['Leather_interior', 'Fuel_type', 'Gear_box_type', 'Drive_wheels', 'Wheel']"
   ]
  },
  {
   "cell_type": "code",
   "execution_count": 29,
   "id": "61baac06",
   "metadata": {
    "execution": {
     "iopub.execute_input": "2022-11-03T22:02:30.215833Z",
     "iopub.status.busy": "2022-11-03T22:02:30.215112Z",
     "iopub.status.idle": "2022-11-03T22:02:30.222354Z",
     "shell.execute_reply": "2022-11-03T22:02:30.221159Z"
    },
    "papermill": {
     "duration": 0.032152,
     "end_time": "2022-11-03T22:02:30.224795",
     "exception": false,
     "start_time": "2022-11-03T22:02:30.192643",
     "status": "completed"
    },
    "tags": []
   },
   "outputs": [
    {
     "data": {
      "text/plain": [
       "['Levy',\n",
       " 'Prod_year',\n",
       " 'Engine_volume',\n",
       " 'Mileage/km',\n",
       " 'Cylinders',\n",
       " 'Doors',\n",
       " 'Airbags']"
      ]
     },
     "execution_count": 29,
     "metadata": {},
     "output_type": "execute_result"
    }
   ],
   "source": [
    "numerical_cols  #['Levy','Prod_year', 'Engine_volume','Mileage/km','Cylinders','Doors','Airbags']"
   ]
  },
  {
   "cell_type": "code",
   "execution_count": 30,
   "id": "47a17c47",
   "metadata": {
    "execution": {
     "iopub.execute_input": "2022-11-03T22:02:30.269541Z",
     "iopub.status.busy": "2022-11-03T22:02:30.269057Z",
     "iopub.status.idle": "2022-11-03T22:02:30.278062Z",
     "shell.execute_reply": "2022-11-03T22:02:30.276540Z"
    },
    "papermill": {
     "duration": 0.034663,
     "end_time": "2022-11-03T22:02:30.280968",
     "exception": false,
     "start_time": "2022-11-03T22:02:30.246305",
     "status": "completed"
    },
    "tags": []
   },
   "outputs": [],
   "source": [
    "# Preprocessing for numerical data\n",
    "numerical_transformer = SimpleImputer(strategy='constant')\n",
    "\n",
    "# Preprocessing for categorical data\n",
    "categorical_transformer = Pipeline(steps=[\n",
    "    ('imputer', SimpleImputer(strategy='most_frequent')),\n",
    "    ('onehot', OneHotEncoder(handle_unknown='ignore'))\n",
    "])\n",
    "\n",
    "# Bundle preprocessing for numerical and categorical data\n",
    "preprocessor = ColumnTransformer(\n",
    "    transformers=[\n",
    "        ('num', numerical_transformer, numerical_cols),\n",
    "        ('cat', categorical_transformer, categorical_cols)\n",
    "    ])"
   ]
  },
  {
   "cell_type": "code",
   "execution_count": 31,
   "id": "3af04758",
   "metadata": {
    "execution": {
     "iopub.execute_input": "2022-11-03T22:02:30.325303Z",
     "iopub.status.busy": "2022-11-03T22:02:30.324887Z",
     "iopub.status.idle": "2022-11-03T22:02:30.331388Z",
     "shell.execute_reply": "2022-11-03T22:02:30.329545Z"
    },
    "papermill": {
     "duration": 0.032336,
     "end_time": "2022-11-03T22:02:30.334724",
     "exception": false,
     "start_time": "2022-11-03T22:02:30.302388",
     "status": "completed"
    },
    "tags": []
   },
   "outputs": [],
   "source": [
    "model = RandomForestRegressor(n_estimators=100, random_state=0)"
   ]
  },
  {
   "cell_type": "code",
   "execution_count": 32,
   "id": "c4380141",
   "metadata": {
    "execution": {
     "iopub.execute_input": "2022-11-03T22:02:30.380914Z",
     "iopub.status.busy": "2022-11-03T22:02:30.380455Z",
     "iopub.status.idle": "2022-11-03T22:02:35.478508Z",
     "shell.execute_reply": "2022-11-03T22:02:35.476540Z"
    },
    "papermill": {
     "duration": 5.124806,
     "end_time": "2022-11-03T22:02:35.481764",
     "exception": false,
     "start_time": "2022-11-03T22:02:30.356958",
     "status": "completed"
    },
    "tags": []
   },
   "outputs": [
    {
     "name": "stdout",
     "output_type": "stream",
     "text": [
      "The mean absolute error is: 15822.130479329006\n"
     ]
    }
   ],
   "source": [
    "# create the  pipeline\n",
    "my_pipeline = Pipeline(steps=[('preprocessor', preprocessor),('model', model)])\n",
    "\n",
    "# Preprocessing of training data, fit model \n",
    "my_pipeline.fit(X_train, y_train)\n",
    "\n",
    "# Preprocessing of validation data, get predictions\n",
    "preds = my_pipeline.predict(X_valid)\n",
    "\n",
    "# Evaluate the model\n",
    "score = mean_absolute_error(y_valid, preds)\n",
    "print('The mean absolute error is:', score) \n",
    "\n",
    "# Preprocessing of test data, fit model\n",
    "preds_test = my_pipeline.predict(X_valid_full) "
   ]
  },
  {
   "cell_type": "code",
   "execution_count": 33,
   "id": "1ae27e53",
   "metadata": {
    "execution": {
     "iopub.execute_input": "2022-11-03T22:02:35.527052Z",
     "iopub.status.busy": "2022-11-03T22:02:35.526607Z",
     "iopub.status.idle": "2022-11-03T22:02:35.540505Z",
     "shell.execute_reply": "2022-11-03T22:02:35.539168Z"
    },
    "papermill": {
     "duration": 0.040088,
     "end_time": "2022-11-03T22:02:35.543305",
     "exception": false,
     "start_time": "2022-11-03T22:02:35.503217",
     "status": "completed"
    },
    "tags": []
   },
   "outputs": [
    {
     "data": {
      "text/html": [
       "<div>\n",
       "<style scoped>\n",
       "    .dataframe tbody tr th:only-of-type {\n",
       "        vertical-align: middle;\n",
       "    }\n",
       "\n",
       "    .dataframe tbody tr th {\n",
       "        vertical-align: top;\n",
       "    }\n",
       "\n",
       "    .dataframe thead th {\n",
       "        text-align: right;\n",
       "    }\n",
       "</style>\n",
       "<table border=\"1\" class=\"dataframe\">\n",
       "  <thead>\n",
       "    <tr style=\"text-align: right;\">\n",
       "      <th></th>\n",
       "      <th>Price</th>\n",
       "      <th>real_price</th>\n",
       "    </tr>\n",
       "  </thead>\n",
       "  <tbody>\n",
       "    <tr>\n",
       "      <th>13868</th>\n",
       "      <td>18146.790000</td>\n",
       "      <td>18189</td>\n",
       "    </tr>\n",
       "    <tr>\n",
       "      <th>13144</th>\n",
       "      <td>61210.950000</td>\n",
       "      <td>50150</td>\n",
       "    </tr>\n",
       "    <tr>\n",
       "      <th>9486</th>\n",
       "      <td>27044.900000</td>\n",
       "      <td>6429</td>\n",
       "    </tr>\n",
       "    <tr>\n",
       "      <th>6186</th>\n",
       "      <td>8231.333111</td>\n",
       "      <td>4547</td>\n",
       "    </tr>\n",
       "    <tr>\n",
       "      <th>4410</th>\n",
       "      <td>18089.050000</td>\n",
       "      <td>17249</td>\n",
       "    </tr>\n",
       "    <tr>\n",
       "      <th>...</th>\n",
       "      <td>...</td>\n",
       "      <td>...</td>\n",
       "    </tr>\n",
       "    <tr>\n",
       "      <th>4297</th>\n",
       "      <td>15482.240000</td>\n",
       "      <td>12231</td>\n",
       "    </tr>\n",
       "    <tr>\n",
       "      <th>7001</th>\n",
       "      <td>39778.930000</td>\n",
       "      <td>40688</td>\n",
       "    </tr>\n",
       "    <tr>\n",
       "      <th>6420</th>\n",
       "      <td>4559.980000</td>\n",
       "      <td>2195</td>\n",
       "    </tr>\n",
       "    <tr>\n",
       "      <th>19206</th>\n",
       "      <td>22193.170000</td>\n",
       "      <td>22075</td>\n",
       "    </tr>\n",
       "    <tr>\n",
       "      <th>4919</th>\n",
       "      <td>97697.460000</td>\n",
       "      <td>121524</td>\n",
       "    </tr>\n",
       "  </tbody>\n",
       "</table>\n",
       "<p>2960 rows × 2 columns</p>\n",
       "</div>"
      ],
      "text/plain": [
       "              Price  real_price\n",
       "13868  18146.790000       18189\n",
       "13144  61210.950000       50150\n",
       "9486   27044.900000        6429\n",
       "6186    8231.333111        4547\n",
       "4410   18089.050000       17249\n",
       "...             ...         ...\n",
       "4297   15482.240000       12231\n",
       "7001   39778.930000       40688\n",
       "6420    4559.980000        2195\n",
       "19206  22193.170000       22075\n",
       "4919   97697.460000      121524\n",
       "\n",
       "[2960 rows x 2 columns]"
      ]
     },
     "execution_count": 33,
     "metadata": {},
     "output_type": "execute_result"
    }
   ],
   "source": [
    "output = pd.DataFrame({'Price': preds_test, 'real_price': y_valid})\n",
    "output"
   ]
  },
  {
   "cell_type": "markdown",
   "id": "79db9482",
   "metadata": {
    "papermill": {
     "duration": 0.023152,
     "end_time": "2022-11-03T22:02:35.589038",
     "exception": false,
     "start_time": "2022-11-03T22:02:35.565886",
     "status": "completed"
    },
    "tags": []
   },
   "source": [
    "# Evaluate many RandomForest models"
   ]
  },
  {
   "cell_type": "code",
   "execution_count": 34,
   "id": "e8f7353f",
   "metadata": {
    "execution": {
     "iopub.execute_input": "2022-11-03T22:02:35.636738Z",
     "iopub.status.busy": "2022-11-03T22:02:35.635400Z",
     "iopub.status.idle": "2022-11-03T22:07:04.386953Z",
     "shell.execute_reply": "2022-11-03T22:07:04.385801Z"
    },
    "papermill": {
     "duration": 268.777559,
     "end_time": "2022-11-03T22:07:04.389115",
     "exception": false,
     "start_time": "2022-11-03T22:02:35.611556",
     "status": "completed"
    },
    "tags": []
   },
   "outputs": [
    {
     "name": "stdout",
     "output_type": "stream",
     "text": [
      "The Model 1 has a MAE: 15787\n",
      "The Model 2 has a MAE: 15822\n",
      "The Model 3 has a MAE: 8531\n",
      "The Model 4 has a MAE: 9144\n",
      "The Model 5 has a MAE: 17514\n"
     ]
    }
   ],
   "source": [
    "# we will create many models with different parametrs \n",
    "model_1 = RandomForestRegressor(n_estimators=50, random_state=0)\n",
    "model_2 = RandomForestRegressor(n_estimators=100, random_state=0)\n",
    "model_3 = RandomForestRegressor(n_estimators=100, criterion='absolute_error', random_state=0)\n",
    "model_4 = RandomForestRegressor(n_estimators=200, min_samples_split=20, random_state=0)\n",
    "model_5 = RandomForestRegressor(n_estimators=100, max_depth=7, random_state=0)\n",
    "\n",
    "models = [model_1, model_2, model_3, model_4, model_5]\n",
    "\n",
    "\n",
    "def score_model(model, X_t=X_train, X_v=X_valid, y_t=y_train, y_v=y_valid):\n",
    "    my_pipeline = Pipeline(steps=[('preprocessor', preprocessor),('model', model)])\n",
    "    my_pipeline.fit(X_train, y_train)\n",
    "    preds = my_pipeline.predict(X_valid)\n",
    "    return mean_absolute_error(y_v, preds)\n",
    "\n",
    "for i in range(0, len(models)):\n",
    "    mae = score_model(models[i])\n",
    "    print(\"The Model %d has a MAE: %d\" % (i+1, mae))"
   ]
  },
  {
   "cell_type": "code",
   "execution_count": 35,
   "id": "738153ca",
   "metadata": {
    "execution": {
     "iopub.execute_input": "2022-11-03T22:07:04.434998Z",
     "iopub.status.busy": "2022-11-03T22:07:04.434273Z",
     "iopub.status.idle": "2022-11-03T22:11:18.024224Z",
     "shell.execute_reply": "2022-11-03T22:11:18.022708Z"
    },
    "papermill": {
     "duration": 253.616448,
     "end_time": "2022-11-03T22:11:18.027573",
     "exception": false,
     "start_time": "2022-11-03T22:07:04.411125",
     "status": "completed"
    },
    "tags": []
   },
   "outputs": [],
   "source": [
    "# create the pipeline\n",
    "my_pipeline_2 = Pipeline(steps=[('preprocessor', preprocessor),\n",
    "                              ('model', model_3)\n",
    "                             ])\n",
    "\n",
    "# Preprocessing of training data, fit model \n",
    "my_pipeline_2.fit(X_train, y_train)\n",
    "\n",
    "# Preprocessing of validation data, get predictions\n",
    "preds_2 = my_pipeline.predict(X_valid)"
   ]
  },
  {
   "cell_type": "code",
   "execution_count": 36,
   "id": "6bce484b",
   "metadata": {
    "execution": {
     "iopub.execute_input": "2022-11-03T22:11:18.075067Z",
     "iopub.status.busy": "2022-11-03T22:11:18.074586Z",
     "iopub.status.idle": "2022-11-03T22:11:18.225963Z",
     "shell.execute_reply": "2022-11-03T22:11:18.224290Z"
    },
    "papermill": {
     "duration": 0.179129,
     "end_time": "2022-11-03T22:11:18.229374",
     "exception": false,
     "start_time": "2022-11-03T22:11:18.050245",
     "status": "completed"
    },
    "tags": []
   },
   "outputs": [
    {
     "name": "stdout",
     "output_type": "stream",
     "text": [
      "MAE: 15822.130479329006\n"
     ]
    }
   ],
   "source": [
    "# Evaluate the model\n",
    "score_2 = mean_absolute_error(y_valid, preds_2)\n",
    "print('MAE:', score_2) \n",
    "# Preprocessing of test data, fit model\n",
    "preds_test_2 = my_pipeline.predict(X_valid_full) "
   ]
  },
  {
   "cell_type": "code",
   "execution_count": 37,
   "id": "bbfc3803",
   "metadata": {
    "execution": {
     "iopub.execute_input": "2022-11-03T22:11:18.276040Z",
     "iopub.status.busy": "2022-11-03T22:11:18.275606Z",
     "iopub.status.idle": "2022-11-03T22:11:18.289757Z",
     "shell.execute_reply": "2022-11-03T22:11:18.288760Z"
    },
    "papermill": {
     "duration": 0.040569,
     "end_time": "2022-11-03T22:11:18.292283",
     "exception": false,
     "start_time": "2022-11-03T22:11:18.251714",
     "status": "completed"
    },
    "tags": []
   },
   "outputs": [
    {
     "data": {
      "text/html": [
       "<div>\n",
       "<style scoped>\n",
       "    .dataframe tbody tr th:only-of-type {\n",
       "        vertical-align: middle;\n",
       "    }\n",
       "\n",
       "    .dataframe tbody tr th {\n",
       "        vertical-align: top;\n",
       "    }\n",
       "\n",
       "    .dataframe thead th {\n",
       "        text-align: right;\n",
       "    }\n",
       "</style>\n",
       "<table border=\"1\" class=\"dataframe\">\n",
       "  <thead>\n",
       "    <tr style=\"text-align: right;\">\n",
       "      <th></th>\n",
       "      <th>Price</th>\n",
       "      <th>real_price</th>\n",
       "    </tr>\n",
       "  </thead>\n",
       "  <tbody>\n",
       "    <tr>\n",
       "      <th>13868</th>\n",
       "      <td>18146.790000</td>\n",
       "      <td>18189</td>\n",
       "    </tr>\n",
       "    <tr>\n",
       "      <th>13144</th>\n",
       "      <td>61210.950000</td>\n",
       "      <td>50150</td>\n",
       "    </tr>\n",
       "    <tr>\n",
       "      <th>9486</th>\n",
       "      <td>27044.900000</td>\n",
       "      <td>6429</td>\n",
       "    </tr>\n",
       "    <tr>\n",
       "      <th>6186</th>\n",
       "      <td>8231.333111</td>\n",
       "      <td>4547</td>\n",
       "    </tr>\n",
       "    <tr>\n",
       "      <th>4410</th>\n",
       "      <td>18089.050000</td>\n",
       "      <td>17249</td>\n",
       "    </tr>\n",
       "    <tr>\n",
       "      <th>...</th>\n",
       "      <td>...</td>\n",
       "      <td>...</td>\n",
       "    </tr>\n",
       "    <tr>\n",
       "      <th>4297</th>\n",
       "      <td>15482.240000</td>\n",
       "      <td>12231</td>\n",
       "    </tr>\n",
       "    <tr>\n",
       "      <th>7001</th>\n",
       "      <td>39778.930000</td>\n",
       "      <td>40688</td>\n",
       "    </tr>\n",
       "    <tr>\n",
       "      <th>6420</th>\n",
       "      <td>4559.980000</td>\n",
       "      <td>2195</td>\n",
       "    </tr>\n",
       "    <tr>\n",
       "      <th>19206</th>\n",
       "      <td>22193.170000</td>\n",
       "      <td>22075</td>\n",
       "    </tr>\n",
       "    <tr>\n",
       "      <th>4919</th>\n",
       "      <td>97697.460000</td>\n",
       "      <td>121524</td>\n",
       "    </tr>\n",
       "  </tbody>\n",
       "</table>\n",
       "<p>2960 rows × 2 columns</p>\n",
       "</div>"
      ],
      "text/plain": [
       "              Price  real_price\n",
       "13868  18146.790000       18189\n",
       "13144  61210.950000       50150\n",
       "9486   27044.900000        6429\n",
       "6186    8231.333111        4547\n",
       "4410   18089.050000       17249\n",
       "...             ...         ...\n",
       "4297   15482.240000       12231\n",
       "7001   39778.930000       40688\n",
       "6420    4559.980000        2195\n",
       "19206  22193.170000       22075\n",
       "4919   97697.460000      121524\n",
       "\n",
       "[2960 rows x 2 columns]"
      ]
     },
     "execution_count": 37,
     "metadata": {},
     "output_type": "execute_result"
    }
   ],
   "source": [
    "output_2 = pd.DataFrame({'Price': preds_test_2, 'real_price': y_valid})\n",
    "output_2"
   ]
  },
  {
   "cell_type": "markdown",
   "id": "972e09c6",
   "metadata": {
    "papermill": {
     "duration": 0.022058,
     "end_time": "2022-11-03T22:11:18.338249",
     "exception": false,
     "start_time": "2022-11-03T22:11:18.316191",
     "status": "completed"
    },
    "tags": []
   },
   "source": [
    "# XGBoost"
   ]
  },
  {
   "cell_type": "code",
   "execution_count": 38,
   "id": "6c54efe5",
   "metadata": {
    "execution": {
     "iopub.execute_input": "2022-11-03T22:11:18.386870Z",
     "iopub.status.busy": "2022-11-03T22:11:18.386424Z",
     "iopub.status.idle": "2022-11-03T22:11:18.467699Z",
     "shell.execute_reply": "2022-11-03T22:11:18.466332Z"
    },
    "papermill": {
     "duration": 0.109708,
     "end_time": "2022-11-03T22:11:18.470729",
     "exception": false,
     "start_time": "2022-11-03T22:11:18.361021",
     "status": "completed"
    },
    "tags": []
   },
   "outputs": [],
   "source": [
    "# Read the data\n",
    "y = data.Price\n",
    "X = data.drop(['Price'], axis=1)\n",
    "\n",
    "# split the data into training and validation subsets\n",
    "X_train_full, X_valid_full, y_train, y_valid = train_test_split(X, y, train_size=0.8, test_size=0.2,random_state=0)\n",
    "              \n",
    "\n",
    "# Break off validation set from training data\n",
    "X_train_full, X_valid_full, y_train, y_valid = train_test_split(X, y, train_size=0.8, test_size=0.2,random_state=0)\n",
    "\n",
    "low_cardinality_cols = [cname for cname in X_train_full.columns if X_train_full[cname].nunique() < 10 and \n",
    "                        X_train_full[cname].dtype == \"object\"]\n",
    "\n",
    "# Select numeric columns\n",
    "numeric_cols = [cname for cname in X_train_full.columns if X_train_full[cname].dtype in ['int64', 'float64','boolean']]\n",
    "\n",
    "# Keep selected columns only\n",
    "my_cols = low_cardinality_cols + numeric_cols\n",
    "X_train = X_train_full[my_cols].copy()\n",
    "X_valid = X_valid_full[my_cols].copy()\n",
    "\n",
    "\n",
    "# One-hot encode the data \n",
    "X_train = pd.get_dummies(X_train)\n",
    "X_valid = pd.get_dummies(X_valid)\n",
    "X_train, X_valid = X_train.align(X_valid, join='left', axis=1)\n"
   ]
  },
  {
   "cell_type": "code",
   "execution_count": 39,
   "id": "8a0470b3",
   "metadata": {
    "execution": {
     "iopub.execute_input": "2022-11-03T22:11:18.520684Z",
     "iopub.status.busy": "2022-11-03T22:11:18.519764Z",
     "iopub.status.idle": "2022-11-03T22:11:19.803243Z",
     "shell.execute_reply": "2022-11-03T22:11:19.801874Z"
    },
    "papermill": {
     "duration": 1.312475,
     "end_time": "2022-11-03T22:11:19.806050",
     "exception": false,
     "start_time": "2022-11-03T22:11:18.493575",
     "status": "completed"
    },
    "tags": []
   },
   "outputs": [
    {
     "name": "stdout",
     "output_type": "stream",
     "text": [
      "Mean Absolute Error: 23055.798179041372\n"
     ]
    }
   ],
   "source": [
    "# First we define the first model\n",
    "Price_model_1 = XGBRegressor(random_state=0) \n",
    "\n",
    "# then we fit it\n",
    "Price_model_1.fit(X_train, y_train)\n",
    "\n",
    "# we calculate the prediction\n",
    "predictions_1 = Price_model_1.predict(X_valid)\n",
    "\n",
    "# we calculate mean_absolute_error\n",
    "mae_1 = mean_absolute_error(predictions_1,y_valid) \n",
    "print(\"Mean Absolute Error:\" , mae_1)"
   ]
  },
  {
   "cell_type": "code",
   "execution_count": 40,
   "id": "180a1491",
   "metadata": {
    "execution": {
     "iopub.execute_input": "2022-11-03T22:11:19.859609Z",
     "iopub.status.busy": "2022-11-03T22:11:19.859145Z",
     "iopub.status.idle": "2022-11-03T22:11:21.207948Z",
     "shell.execute_reply": "2022-11-03T22:11:21.205945Z"
    },
    "papermill": {
     "duration": 1.381027,
     "end_time": "2022-11-03T22:11:21.211517",
     "exception": false,
     "start_time": "2022-11-03T22:11:19.830490",
     "status": "completed"
    },
    "tags": []
   },
   "outputs": [
    {
     "name": "stdout",
     "output_type": "stream",
     "text": [
      "Mean Absolute Error: 23061.50103640685\n"
     ]
    }
   ],
   "source": [
    "# we define the second model\n",
    "Price_model_2 = XGBRegressor(n_estimators=100, learning_rate=0.1,random_state=0) \n",
    "\n",
    "# we fit the model\n",
    "Price_model_2.fit(X_train, y_train) \n",
    "\n",
    "# we calculate the predictions\n",
    "predictions_2 = Price_model_2.predict(X_valid)\n",
    "\n",
    "# we calculate mean_absolute_error\n",
    "mae_2 = mean_absolute_error(predictions_2, y_valid) \n",
    "print(\"Mean Absolute Error:\" , mae_2) "
   ]
  },
  {
   "cell_type": "code",
   "execution_count": 41,
   "id": "18558521",
   "metadata": {
    "execution": {
     "iopub.execute_input": "2022-11-03T22:11:21.261353Z",
     "iopub.status.busy": "2022-11-03T22:11:21.260923Z",
     "iopub.status.idle": "2022-11-03T22:11:22.376409Z",
     "shell.execute_reply": "2022-11-03T22:11:22.375378Z"
    },
    "papermill": {
     "duration": 1.142947,
     "end_time": "2022-11-03T22:11:22.379522",
     "exception": false,
     "start_time": "2022-11-03T22:11:21.236575",
     "status": "completed"
    },
    "tags": []
   },
   "outputs": [
    {
     "name": "stdout",
     "output_type": "stream",
     "text": [
      "Mean Absolute Error: 16048.962217258762\n"
     ]
    }
   ],
   "source": [
    "# we define the third model\n",
    "Price_model_3 =XGBRegressor(n_estimators=87, learning_rate=0.01,random_state=0)\n",
    "\n",
    "# we fit the model\n",
    "Price_model_3.fit(X_train, y_train)\n",
    "\n",
    "# we calculate predictions\n",
    "predictions_3 =Price_model_3.predict(X_valid)\n",
    "\n",
    "# we calculate mean_absolute_error\n",
    "mae_3 = mean_absolute_error(predictions_3,y_valid)\n",
    "print(\"Mean Absolute Error:\" , mae_3)"
   ]
  }
 ],
 "metadata": {
  "kernelspec": {
   "display_name": "Python 3",
   "language": "python",
   "name": "python3"
  },
  "language_info": {
   "codemirror_mode": {
    "name": "ipython",
    "version": 3
   },
   "file_extension": ".py",
   "mimetype": "text/x-python",
   "name": "python",
   "nbconvert_exporter": "python",
   "pygments_lexer": "ipython3",
   "version": "3.7.12"
  },
  "papermill": {
   "default_parameters": {},
   "duration": 597.039442,
   "end_time": "2022-11-03T22:11:23.932928",
   "environment_variables": {},
   "exception": null,
   "input_path": "__notebook__.ipynb",
   "output_path": "__notebook__.ipynb",
   "parameters": {},
   "start_time": "2022-11-03T22:01:26.893486",
   "version": "2.3.4"
  }
 },
 "nbformat": 4,
 "nbformat_minor": 5
}
